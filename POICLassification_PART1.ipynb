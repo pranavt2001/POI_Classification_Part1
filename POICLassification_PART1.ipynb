{
  "nbformat": 4,
  "nbformat_minor": 0,
  "metadata": {
    "colab": {
      "name": "POICLassification_PART1.ipynb",
      "provenance": [],
      "collapsed_sections": [
        "kOZLRwhtYFKP"
      ]
    },
    "kernelspec": {
      "display_name": "Python 3",
      "name": "python3"
    },
    "language_info": {
      "name": "python"
    }
  },
  "cells": [
    {
      "cell_type": "markdown",
      "metadata": {
        "id": "rRn3zZdLeJPj"
      },
      "source": [
        "![image.png](data:image/png;base64,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)"
      ]
    },
    {
      "cell_type": "markdown",
      "metadata": {
        "id": "PdwkjtYP8agD"
      },
      "source": [
        "# POI Classification: Part 1\n",
        "\n",
        "This notebook demonstrates how to classify POI categories based on visit patterns observed in SafeGraph Patterns. In particular, we use Gaussian Naive Bayes, Decision Tree, K-Nearest Neighbors, and Support Vector Machine classifiers to classify train stations, airports, and bus stops.\n",
        "\n",
        "This notebook is the first in a series of notebooks related classification with Patterns. The next parts of the series will add complexity (and power!) to our analysis.\n",
        "\n",
        "June 2021\n",
        "\n",
        "Pranav Thaenraj\n",
        "\n",
        "---"
      ]
    },
    {
      "cell_type": "markdown",
      "metadata": {
        "id": "jyBD9eOQ-yJR"
      },
      "source": [
        "## Setup"
      ]
    },
    {
      "cell_type": "code",
      "metadata": {
        "id": "3MtWUxMS2w2Q"
      },
      "source": [
        "import pandas as pd\n",
        "import numpy as np\n",
        "import seaborn as sns\n",
        "import matplotlib.pyplot as pltx\n",
        "from sklearn.metrics import plot_confusion_matrix"
      ],
      "execution_count": null,
      "outputs": []
    },
    {
      "cell_type": "code",
      "metadata": {
        "colab": {
          "base_uri": "https://localhost:8080/"
        },
        "id": "kwRLFq1vjx3y",
        "outputId": "71a18938-1579-4a00-875a-7c78323ded88"
      },
      "source": [
        "!apt-get install openjdk-8-jdk-headless -qq > /dev/null\n",
        "!wget -q https://www-us.apache.org/dist/spark/spark-3.1.2/spark-3.1.2-bin-hadoop2.7.tgz\n",
        "!tar xf spark-3.1.2-bin-hadoop2.7.tgz\n",
        "!pip install -q findspark\n",
        "!pip install pyspark"
      ],
      "execution_count": null,
      "outputs": [
        {
          "output_type": "stream",
          "text": [
            "Collecting pyspark\n",
            "\u001b[?25l  Downloading https://files.pythonhosted.org/packages/89/db/e18cfd78e408de957821ec5ca56de1250645b05f8523d169803d8df35a64/pyspark-3.1.2.tar.gz (212.4MB)\n",
            "\u001b[K     |████████████████████████████████| 212.4MB 60kB/s \n",
            "\u001b[?25hCollecting py4j==0.10.9\n",
            "\u001b[?25l  Downloading https://files.pythonhosted.org/packages/9e/b6/6a4fb90cd235dc8e265a6a2067f2a2c99f0d91787f06aca4bcf7c23f3f80/py4j-0.10.9-py2.py3-none-any.whl (198kB)\n",
            "\u001b[K     |████████████████████████████████| 204kB 18.6MB/s \n",
            "\u001b[?25hBuilding wheels for collected packages: pyspark\n",
            "  Building wheel for pyspark (setup.py) ... \u001b[?25l\u001b[?25hdone\n",
            "  Created wheel for pyspark: filename=pyspark-3.1.2-py2.py3-none-any.whl size=212880768 sha256=5dcc763bc25efc4e646caed2875bb71498fa276849a349b454c8c193e28f7ed4\n",
            "  Stored in directory: /root/.cache/pip/wheels/40/1b/2c/30f43be2627857ab80062bef1527c0128f7b4070b6b2d02139\n",
            "Successfully built pyspark\n",
            "Installing collected packages: py4j, pyspark\n",
            "Successfully installed py4j-0.10.9 pyspark-3.1.2\n"
          ],
          "name": "stdout"
        }
      ]
    },
    {
      "cell_type": "code",
      "metadata": {
        "id": "IijvRTR6dpQ7"
      },
      "source": [
        "import findspark\n",
        "findspark.init(\"/content/spark-3.1.2-bin-hadoop2.7\")\n",
        "from pyspark.sql import SparkSession\n",
        "spark = SparkSession.builder.master(\"local[*]\").getOrCreate()"
      ],
      "execution_count": null,
      "outputs": []
    },
    {
      "cell_type": "markdown",
      "metadata": {
        "id": "tj9cRJcO-4a0"
      },
      "source": [
        "## Data Load\n",
        "\n",
        "Now we read in the data file. The data used in this project is stored in Google Drive, so we need to authenticate ourselves first.\n",
        "\n",
        "Check out [the documentation](https://docs.safegraph.com/docs/places-schema#section-patterns) for more info on Patterns data.\n",
        "\n",
        "This Data is December 2018's Patterns data for Airport services, Train and Metro services, and Bus and other transit services\n"
      ]
    },
    {
      "cell_type": "code",
      "metadata": {
        "colab": {
          "base_uri": "https://localhost:8080/",
          "height": 262
        },
        "id": "_gN-6KwQemkN",
        "outputId": "f2963c2b-f02d-4f17-f7b8-3775195fa2b6"
      },
      "source": [
        "from pydrive.auth import GoogleAuth\n",
        "from pydrive.drive import GoogleDrive\n",
        "from google.colab import auth\n",
        "from oauth2client.client import GoogleCredentials\n",
        "\n",
        "auth.authenticate_user()\n",
        "\n",
        "gauth = GoogleAuth()\n",
        "gauth.credentials = GoogleCredentials.get_application_default()\n",
        "drive = GoogleDrive(gauth)\n",
        "\n",
        "def pd_read_csv_drive(id, drive, dtype=None):\n",
        "  downloaded = drive.CreateFile({'id':id}) \n",
        "  downloaded.GetContentFile('Filename.csv')  \n",
        "  return(pd.read_csv('Filename.csv',dtype=dtype))\n",
        "\n",
        "def get_drive_id(filename):\n",
        "    drive_ids = {'patterns' : '1ReqpLgv50_3mCvZuKLlMdHxwfCPIHmqz'\n",
        "                 }\n",
        "    return(drive_ids[filename])\n",
        "\n",
        "transportation_df = pd_read_csv_drive(get_drive_id('patterns'), drive=drive)\n",
        "transportation_df.head(3)"
      ],
      "execution_count": null,
      "outputs": [
        {
          "output_type": "execute_result",
          "data": {
            "text/html": [
              "<div>\n",
              "<style scoped>\n",
              "    .dataframe tbody tr th:only-of-type {\n",
              "        vertical-align: middle;\n",
              "    }\n",
              "\n",
              "    .dataframe tbody tr th {\n",
              "        vertical-align: top;\n",
              "    }\n",
              "\n",
              "    .dataframe thead th {\n",
              "        text-align: right;\n",
              "    }\n",
              "</style>\n",
              "<table border=\"1\" class=\"dataframe\">\n",
              "  <thead>\n",
              "    <tr style=\"text-align: right;\">\n",
              "      <th></th>\n",
              "      <th>placekey</th>\n",
              "      <th>safegraph_place_id</th>\n",
              "      <th>parent_placekey</th>\n",
              "      <th>parent_safegraph_place_id</th>\n",
              "      <th>location_name</th>\n",
              "      <th>street_address</th>\n",
              "      <th>city</th>\n",
              "      <th>region</th>\n",
              "      <th>postal_code</th>\n",
              "      <th>safegraph_brand_ids</th>\n",
              "      <th>brands</th>\n",
              "      <th>date_range_start</th>\n",
              "      <th>date_range_end</th>\n",
              "      <th>raw_visit_counts</th>\n",
              "      <th>raw_visitor_counts</th>\n",
              "      <th>visits_by_day</th>\n",
              "      <th>poi_cbg</th>\n",
              "      <th>visitor_home_cbgs</th>\n",
              "      <th>visitor_daytime_cbgs</th>\n",
              "      <th>visitor_country_of_origin</th>\n",
              "      <th>distance_from_home</th>\n",
              "      <th>median_dwell</th>\n",
              "      <th>bucketed_dwell_times</th>\n",
              "      <th>related_same_day_brand</th>\n",
              "      <th>related_same_month_brand</th>\n",
              "      <th>popularity_by_hour</th>\n",
              "      <th>popularity_by_day</th>\n",
              "      <th>device_type</th>\n",
              "    </tr>\n",
              "  </thead>\n",
              "  <tbody>\n",
              "    <tr>\n",
              "      <th>0</th>\n",
              "      <td>zzw-222@627-s9k-wkz</td>\n",
              "      <td>sg:2fad0895c4fe4a8f904660121a03c550</td>\n",
              "      <td>NaN</td>\n",
              "      <td>NaN</td>\n",
              "      <td>MTA Bus College Point Depot</td>\n",
              "      <td>12815 28th Ave</td>\n",
              "      <td>Flushing</td>\n",
              "      <td>NY</td>\n",
              "      <td>11354</td>\n",
              "      <td>NaN</td>\n",
              "      <td>NaN</td>\n",
              "      <td>2018-12-01T00:00:00-05:00</td>\n",
              "      <td>2019-01-01T00:00:00-05:00</td>\n",
              "      <td>819</td>\n",
              "      <td>119</td>\n",
              "      <td>[15,20,35,32,48,33,30,17,20,40,35,49,37,31,15,...</td>\n",
              "      <td>360810907001</td>\n",
              "      <td>{\"360470836002\":4,\"360710143024\":4,\"3608114090...</td>\n",
              "      <td>{\"360810907001\":11,\"360810398001\":6,\"360810998...</td>\n",
              "      <td>{\"US\":112}</td>\n",
              "      <td>11643.0</td>\n",
              "      <td>33.0</td>\n",
              "      <td>{\"&lt;5\":16,\"5-10\":169,\"11-20\":137,\"21-60\":186,\"6...</td>\n",
              "      <td>{\"Nathan's Famous\":11,\"United Rentals\":10,\"Arb...</td>\n",
              "      <td>{\"Dunkin'\":26,\"BP\":22,\"McDonald's\":19,\"Subway\"...</td>\n",
              "      <td>[63,51,40,32,51,66,114,99,136,146,166,163,136,...</td>\n",
              "      <td>{\"Monday\":174,\"Tuesday\":107,\"Wednesday\":158,\"T...</td>\n",
              "      <td>{\"android\":91,\"ios\":29}</td>\n",
              "    </tr>\n",
              "    <tr>\n",
              "      <th>1</th>\n",
              "      <td>zzy-222@8dz-pn7-26k</td>\n",
              "      <td>sg:bfd831d1499b4effb5adcb4718f25769</td>\n",
              "      <td>NaN</td>\n",
              "      <td>NaN</td>\n",
              "      <td>Broken Bow Airport</td>\n",
              "      <td>Broken Bow Airport</td>\n",
              "      <td>Broken Bow</td>\n",
              "      <td>OK</td>\n",
              "      <td>74728</td>\n",
              "      <td>NaN</td>\n",
              "      <td>NaN</td>\n",
              "      <td>2018-12-01T00:00:00-06:00</td>\n",
              "      <td>2019-01-01T00:00:00-06:00</td>\n",
              "      <td>67</td>\n",
              "      <td>27</td>\n",
              "      <td>[0,0,1,2,1,1,1,4,3,2,1,5,3,3,2,0,4,1,3,11,5,3,...</td>\n",
              "      <td>400890986002</td>\n",
              "      <td>{\"400890986002\":6,\"481390602142\":4,\"4008909850...</td>\n",
              "      <td>{\"400890985002\":4,\"050850201011\":4,\"4008909860...</td>\n",
              "      <td>{\"US\":26}</td>\n",
              "      <td>3850.0</td>\n",
              "      <td>20.0</td>\n",
              "      <td>{\"&lt;5\":0,\"5-10\":19,\"11-20\":15,\"21-60\":15,\"61-12...</td>\n",
              "      <td>{}</td>\n",
              "      <td>{\"E-Z Mart\":18,\"Phillips 66\":18,\"Sharpe's\":15,...</td>\n",
              "      <td>[6,7,8,8,7,5,6,8,9,6,8,8,13,11,13,9,8,4,5,4,4,...</td>\n",
              "      <td>{\"Monday\":10,\"Tuesday\":5,\"Wednesday\":10,\"Thurs...</td>\n",
              "      <td>{\"android\":23,\"ios\":4}</td>\n",
              "    </tr>\n",
              "    <tr>\n",
              "      <th>2</th>\n",
              "      <td>zzw-222@5qw-vqg-b49</td>\n",
              "      <td>sg:d305c89f9e0c477e84e692e40be48fe6</td>\n",
              "      <td>NaN</td>\n",
              "      <td>NaN</td>\n",
              "      <td>The Reserve at Bellevue</td>\n",
              "      <td>7301 Ederville Rd</td>\n",
              "      <td>Fort Worth</td>\n",
              "      <td>TX</td>\n",
              "      <td>76112</td>\n",
              "      <td>NaN</td>\n",
              "      <td>NaN</td>\n",
              "      <td>2018-12-01T00:00:00-06:00</td>\n",
              "      <td>2019-01-01T00:00:00-06:00</td>\n",
              "      <td>164</td>\n",
              "      <td>104</td>\n",
              "      <td>[5,5,2,5,4,4,4,5,3,6,7,5,4,2,7,5,4,3,10,5,11,7...</td>\n",
              "      <td>484391065031</td>\n",
              "      <td>{\"484391065031\":9,\"484391052053\":7,\"4843910651...</td>\n",
              "      <td>{\"481130165201\":4,\"484391219042\":4,\"4811301630...</td>\n",
              "      <td>{\"US\":87}</td>\n",
              "      <td>12406.0</td>\n",
              "      <td>36.5</td>\n",
              "      <td>{\"&lt;5\":9,\"5-10\":43,\"11-20\":17,\"21-60\":30,\"61-12...</td>\n",
              "      <td>{\"Mobil\":25,\"Williams Chicken\":20,\"Nissan\":20,...</td>\n",
              "      <td>{\"Family Dollar Stores\":19,\"Walmart\":17,\"Exxon...</td>\n",
              "      <td>[31,26,22,23,23,22,23,23,23,27,25,27,28,30,25,...</td>\n",
              "      <td>{\"Monday\":26,\"Tuesday\":23,\"Wednesday\":23,\"Thur...</td>\n",
              "      <td>{\"android\":84,\"ios\":24}</td>\n",
              "    </tr>\n",
              "  </tbody>\n",
              "</table>\n",
              "</div>"
            ],
            "text/plain": [
              "              placekey  ...              device_type\n",
              "0  zzw-222@627-s9k-wkz  ...  {\"android\":91,\"ios\":29}\n",
              "1  zzy-222@8dz-pn7-26k  ...   {\"android\":23,\"ios\":4}\n",
              "2  zzw-222@5qw-vqg-b49  ...  {\"android\":84,\"ios\":24}\n",
              "\n",
              "[3 rows x 28 columns]"
            ]
          },
          "metadata": {
            "tags": []
          },
          "execution_count": 5
        }
      ]
    },
    {
      "cell_type": "markdown",
      "metadata": {
        "id": "S934YlJA--GN"
      },
      "source": [
        "## Data Cleansing "
      ]
    },
    {
      "cell_type": "code",
      "metadata": {
        "colab": {
          "base_uri": "https://localhost:8080/",
          "height": 262
        },
        "id": "VjSfGd0CEwCz",
        "outputId": "d54516fd-21d5-4528-8779-61ffd78da130"
      },
      "source": [
        "transportation_df = transportation_df.drop(['parent_safegraph_place_id','placekey','safegraph_place_id','parent_placekey','parent_placekey','safegraph_brand_ids','brands', 'poi_cbg'], axis = 1)\n",
        "transportation_df.head(3)"
      ],
      "execution_count": null,
      "outputs": [
        {
          "output_type": "execute_result",
          "data": {
            "text/html": [
              "<div>\n",
              "<style scoped>\n",
              "    .dataframe tbody tr th:only-of-type {\n",
              "        vertical-align: middle;\n",
              "    }\n",
              "\n",
              "    .dataframe tbody tr th {\n",
              "        vertical-align: top;\n",
              "    }\n",
              "\n",
              "    .dataframe thead th {\n",
              "        text-align: right;\n",
              "    }\n",
              "</style>\n",
              "<table border=\"1\" class=\"dataframe\">\n",
              "  <thead>\n",
              "    <tr style=\"text-align: right;\">\n",
              "      <th></th>\n",
              "      <th>location_name</th>\n",
              "      <th>street_address</th>\n",
              "      <th>city</th>\n",
              "      <th>region</th>\n",
              "      <th>postal_code</th>\n",
              "      <th>date_range_start</th>\n",
              "      <th>date_range_end</th>\n",
              "      <th>raw_visit_counts</th>\n",
              "      <th>raw_visitor_counts</th>\n",
              "      <th>visits_by_day</th>\n",
              "      <th>visitor_home_cbgs</th>\n",
              "      <th>visitor_daytime_cbgs</th>\n",
              "      <th>visitor_country_of_origin</th>\n",
              "      <th>distance_from_home</th>\n",
              "      <th>median_dwell</th>\n",
              "      <th>bucketed_dwell_times</th>\n",
              "      <th>related_same_day_brand</th>\n",
              "      <th>related_same_month_brand</th>\n",
              "      <th>popularity_by_hour</th>\n",
              "      <th>popularity_by_day</th>\n",
              "      <th>device_type</th>\n",
              "    </tr>\n",
              "  </thead>\n",
              "  <tbody>\n",
              "    <tr>\n",
              "      <th>0</th>\n",
              "      <td>MTA Bus College Point Depot</td>\n",
              "      <td>12815 28th Ave</td>\n",
              "      <td>Flushing</td>\n",
              "      <td>NY</td>\n",
              "      <td>11354</td>\n",
              "      <td>2018-12-01T00:00:00-05:00</td>\n",
              "      <td>2019-01-01T00:00:00-05:00</td>\n",
              "      <td>819</td>\n",
              "      <td>119</td>\n",
              "      <td>[15,20,35,32,48,33,30,17,20,40,35,49,37,31,15,...</td>\n",
              "      <td>{\"360470836002\":4,\"360710143024\":4,\"3608114090...</td>\n",
              "      <td>{\"360810907001\":11,\"360810398001\":6,\"360810998...</td>\n",
              "      <td>{\"US\":112}</td>\n",
              "      <td>11643.0</td>\n",
              "      <td>33.0</td>\n",
              "      <td>{\"&lt;5\":16,\"5-10\":169,\"11-20\":137,\"21-60\":186,\"6...</td>\n",
              "      <td>{\"Nathan's Famous\":11,\"United Rentals\":10,\"Arb...</td>\n",
              "      <td>{\"Dunkin'\":26,\"BP\":22,\"McDonald's\":19,\"Subway\"...</td>\n",
              "      <td>[63,51,40,32,51,66,114,99,136,146,166,163,136,...</td>\n",
              "      <td>{\"Monday\":174,\"Tuesday\":107,\"Wednesday\":158,\"T...</td>\n",
              "      <td>{\"android\":91,\"ios\":29}</td>\n",
              "    </tr>\n",
              "    <tr>\n",
              "      <th>1</th>\n",
              "      <td>Broken Bow Airport</td>\n",
              "      <td>Broken Bow Airport</td>\n",
              "      <td>Broken Bow</td>\n",
              "      <td>OK</td>\n",
              "      <td>74728</td>\n",
              "      <td>2018-12-01T00:00:00-06:00</td>\n",
              "      <td>2019-01-01T00:00:00-06:00</td>\n",
              "      <td>67</td>\n",
              "      <td>27</td>\n",
              "      <td>[0,0,1,2,1,1,1,4,3,2,1,5,3,3,2,0,4,1,3,11,5,3,...</td>\n",
              "      <td>{\"400890986002\":6,\"481390602142\":4,\"4008909850...</td>\n",
              "      <td>{\"400890985002\":4,\"050850201011\":4,\"4008909860...</td>\n",
              "      <td>{\"US\":26}</td>\n",
              "      <td>3850.0</td>\n",
              "      <td>20.0</td>\n",
              "      <td>{\"&lt;5\":0,\"5-10\":19,\"11-20\":15,\"21-60\":15,\"61-12...</td>\n",
              "      <td>{}</td>\n",
              "      <td>{\"E-Z Mart\":18,\"Phillips 66\":18,\"Sharpe's\":15,...</td>\n",
              "      <td>[6,7,8,8,7,5,6,8,9,6,8,8,13,11,13,9,8,4,5,4,4,...</td>\n",
              "      <td>{\"Monday\":10,\"Tuesday\":5,\"Wednesday\":10,\"Thurs...</td>\n",
              "      <td>{\"android\":23,\"ios\":4}</td>\n",
              "    </tr>\n",
              "    <tr>\n",
              "      <th>2</th>\n",
              "      <td>The Reserve at Bellevue</td>\n",
              "      <td>7301 Ederville Rd</td>\n",
              "      <td>Fort Worth</td>\n",
              "      <td>TX</td>\n",
              "      <td>76112</td>\n",
              "      <td>2018-12-01T00:00:00-06:00</td>\n",
              "      <td>2019-01-01T00:00:00-06:00</td>\n",
              "      <td>164</td>\n",
              "      <td>104</td>\n",
              "      <td>[5,5,2,5,4,4,4,5,3,6,7,5,4,2,7,5,4,3,10,5,11,7...</td>\n",
              "      <td>{\"484391065031\":9,\"484391052053\":7,\"4843910651...</td>\n",
              "      <td>{\"481130165201\":4,\"484391219042\":4,\"4811301630...</td>\n",
              "      <td>{\"US\":87}</td>\n",
              "      <td>12406.0</td>\n",
              "      <td>36.5</td>\n",
              "      <td>{\"&lt;5\":9,\"5-10\":43,\"11-20\":17,\"21-60\":30,\"61-12...</td>\n",
              "      <td>{\"Mobil\":25,\"Williams Chicken\":20,\"Nissan\":20,...</td>\n",
              "      <td>{\"Family Dollar Stores\":19,\"Walmart\":17,\"Exxon...</td>\n",
              "      <td>[31,26,22,23,23,22,23,23,23,27,25,27,28,30,25,...</td>\n",
              "      <td>{\"Monday\":26,\"Tuesday\":23,\"Wednesday\":23,\"Thur...</td>\n",
              "      <td>{\"android\":84,\"ios\":24}</td>\n",
              "    </tr>\n",
              "  </tbody>\n",
              "</table>\n",
              "</div>"
            ],
            "text/plain": [
              "                 location_name  ...              device_type\n",
              "0  MTA Bus College Point Depot  ...  {\"android\":91,\"ios\":29}\n",
              "1           Broken Bow Airport  ...   {\"android\":23,\"ios\":4}\n",
              "2      The Reserve at Bellevue  ...  {\"android\":84,\"ios\":24}\n",
              "\n",
              "[3 rows x 21 columns]"
            ]
          },
          "metadata": {
            "tags": []
          },
          "execution_count": 6
        }
      ]
    },
    {
      "cell_type": "markdown",
      "metadata": {
        "id": "pzq9Yy0wX-jB"
      },
      "source": [
        "### Labeling Classes\n",
        "\n",
        "\n",
        "we are attempting to create a Class column to establish the ground truth that is required for supervised learning algorithms such as classification. The data that is used for this project comes with some caveats, especially with the bus stop data. The bus stop NAICS category consists of 'Bus Stop and Other Transit Services'. This category in particular has multiple items such as bus stops as well as truck rentals and yatch services. Thus in order to remove the records that are irrelavent the below fuction was used. "
      ]
    },
    {
      "cell_type": "code",
      "metadata": {
        "id": "jXVB4VifKLKD"
      },
      "source": [
        "#Creation of ground truth Class column (Helper function)\n",
        "def class_definer(record):\n",
        "  fixed_record = record.lower()\n",
        "  if('bus' in fixed_record):\n",
        "    return 'Bus'\n",
        "  elif('airport' in fixed_record):\n",
        "    return 'Airport'\n",
        "  elif('train' in fixed_record):\n",
        "    return 'Train'\n",
        "  elif('metro' in fixed_record):\n",
        "    return 'Train'\n",
        "  elif('transport' in fixed_record):\n",
        "    return 'Bus'\n",
        "  elif('amtrak' in fixed_record):\n",
        "    return 'Train'\n",
        "  elif('bart' in fixed_record):\n",
        "    return 'Train'\n",
        "  elif('cta' in fixed_record):\n",
        "    return 'Train'\n",
        "  elif('mta' in fixed_record):\n",
        "    return 'Train'\n",
        "  elif('transit' in fixed_record):\n",
        "    return 'Bus'\n",
        "  elif('mbta' in fixed_record):\n",
        "    return 'Train'\n",
        "  elif('station' in fixed_record):\n",
        "    return 'Train'\n",
        "  elif('railway' in fixed_record):\n",
        "    return 'Train'\n",
        "  else:\n",
        "    return 'Unknown'"
      ],
      "execution_count": null,
      "outputs": []
    },
    {
      "cell_type": "code",
      "metadata": {
        "colab": {
          "base_uri": "https://localhost:8080/",
          "height": 262
        },
        "id": "STSFUny6MKM2",
        "outputId": "13537526-df2a-46db-fcff-5f0d4fabf649"
      },
      "source": [
        "#Class_definer implementation\n",
        "transportation_df['Class'] = transportation_df['location_name'].transform(lambda x: class_definer(x))\n",
        "transportation_df.head(3)"
      ],
      "execution_count": null,
      "outputs": [
        {
          "output_type": "execute_result",
          "data": {
            "text/html": [
              "<div>\n",
              "<style scoped>\n",
              "    .dataframe tbody tr th:only-of-type {\n",
              "        vertical-align: middle;\n",
              "    }\n",
              "\n",
              "    .dataframe tbody tr th {\n",
              "        vertical-align: top;\n",
              "    }\n",
              "\n",
              "    .dataframe thead th {\n",
              "        text-align: right;\n",
              "    }\n",
              "</style>\n",
              "<table border=\"1\" class=\"dataframe\">\n",
              "  <thead>\n",
              "    <tr style=\"text-align: right;\">\n",
              "      <th></th>\n",
              "      <th>location_name</th>\n",
              "      <th>street_address</th>\n",
              "      <th>city</th>\n",
              "      <th>region</th>\n",
              "      <th>postal_code</th>\n",
              "      <th>date_range_start</th>\n",
              "      <th>date_range_end</th>\n",
              "      <th>raw_visit_counts</th>\n",
              "      <th>raw_visitor_counts</th>\n",
              "      <th>visits_by_day</th>\n",
              "      <th>visitor_home_cbgs</th>\n",
              "      <th>visitor_daytime_cbgs</th>\n",
              "      <th>visitor_country_of_origin</th>\n",
              "      <th>distance_from_home</th>\n",
              "      <th>median_dwell</th>\n",
              "      <th>bucketed_dwell_times</th>\n",
              "      <th>related_same_day_brand</th>\n",
              "      <th>related_same_month_brand</th>\n",
              "      <th>popularity_by_hour</th>\n",
              "      <th>popularity_by_day</th>\n",
              "      <th>device_type</th>\n",
              "      <th>Class</th>\n",
              "    </tr>\n",
              "  </thead>\n",
              "  <tbody>\n",
              "    <tr>\n",
              "      <th>0</th>\n",
              "      <td>MTA Bus College Point Depot</td>\n",
              "      <td>12815 28th Ave</td>\n",
              "      <td>Flushing</td>\n",
              "      <td>NY</td>\n",
              "      <td>11354</td>\n",
              "      <td>2018-12-01T00:00:00-05:00</td>\n",
              "      <td>2019-01-01T00:00:00-05:00</td>\n",
              "      <td>819</td>\n",
              "      <td>119</td>\n",
              "      <td>[15,20,35,32,48,33,30,17,20,40,35,49,37,31,15,...</td>\n",
              "      <td>{\"360470836002\":4,\"360710143024\":4,\"3608114090...</td>\n",
              "      <td>{\"360810907001\":11,\"360810398001\":6,\"360810998...</td>\n",
              "      <td>{\"US\":112}</td>\n",
              "      <td>11643.0</td>\n",
              "      <td>33.0</td>\n",
              "      <td>{\"&lt;5\":16,\"5-10\":169,\"11-20\":137,\"21-60\":186,\"6...</td>\n",
              "      <td>{\"Nathan's Famous\":11,\"United Rentals\":10,\"Arb...</td>\n",
              "      <td>{\"Dunkin'\":26,\"BP\":22,\"McDonald's\":19,\"Subway\"...</td>\n",
              "      <td>[63,51,40,32,51,66,114,99,136,146,166,163,136,...</td>\n",
              "      <td>{\"Monday\":174,\"Tuesday\":107,\"Wednesday\":158,\"T...</td>\n",
              "      <td>{\"android\":91,\"ios\":29}</td>\n",
              "      <td>Bus</td>\n",
              "    </tr>\n",
              "    <tr>\n",
              "      <th>1</th>\n",
              "      <td>Broken Bow Airport</td>\n",
              "      <td>Broken Bow Airport</td>\n",
              "      <td>Broken Bow</td>\n",
              "      <td>OK</td>\n",
              "      <td>74728</td>\n",
              "      <td>2018-12-01T00:00:00-06:00</td>\n",
              "      <td>2019-01-01T00:00:00-06:00</td>\n",
              "      <td>67</td>\n",
              "      <td>27</td>\n",
              "      <td>[0,0,1,2,1,1,1,4,3,2,1,5,3,3,2,0,4,1,3,11,5,3,...</td>\n",
              "      <td>{\"400890986002\":6,\"481390602142\":4,\"4008909850...</td>\n",
              "      <td>{\"400890985002\":4,\"050850201011\":4,\"4008909860...</td>\n",
              "      <td>{\"US\":26}</td>\n",
              "      <td>3850.0</td>\n",
              "      <td>20.0</td>\n",
              "      <td>{\"&lt;5\":0,\"5-10\":19,\"11-20\":15,\"21-60\":15,\"61-12...</td>\n",
              "      <td>{}</td>\n",
              "      <td>{\"E-Z Mart\":18,\"Phillips 66\":18,\"Sharpe's\":15,...</td>\n",
              "      <td>[6,7,8,8,7,5,6,8,9,6,8,8,13,11,13,9,8,4,5,4,4,...</td>\n",
              "      <td>{\"Monday\":10,\"Tuesday\":5,\"Wednesday\":10,\"Thurs...</td>\n",
              "      <td>{\"android\":23,\"ios\":4}</td>\n",
              "      <td>Airport</td>\n",
              "    </tr>\n",
              "    <tr>\n",
              "      <th>2</th>\n",
              "      <td>The Reserve at Bellevue</td>\n",
              "      <td>7301 Ederville Rd</td>\n",
              "      <td>Fort Worth</td>\n",
              "      <td>TX</td>\n",
              "      <td>76112</td>\n",
              "      <td>2018-12-01T00:00:00-06:00</td>\n",
              "      <td>2019-01-01T00:00:00-06:00</td>\n",
              "      <td>164</td>\n",
              "      <td>104</td>\n",
              "      <td>[5,5,2,5,4,4,4,5,3,6,7,5,4,2,7,5,4,3,10,5,11,7...</td>\n",
              "      <td>{\"484391065031\":9,\"484391052053\":7,\"4843910651...</td>\n",
              "      <td>{\"481130165201\":4,\"484391219042\":4,\"4811301630...</td>\n",
              "      <td>{\"US\":87}</td>\n",
              "      <td>12406.0</td>\n",
              "      <td>36.5</td>\n",
              "      <td>{\"&lt;5\":9,\"5-10\":43,\"11-20\":17,\"21-60\":30,\"61-12...</td>\n",
              "      <td>{\"Mobil\":25,\"Williams Chicken\":20,\"Nissan\":20,...</td>\n",
              "      <td>{\"Family Dollar Stores\":19,\"Walmart\":17,\"Exxon...</td>\n",
              "      <td>[31,26,22,23,23,22,23,23,23,27,25,27,28,30,25,...</td>\n",
              "      <td>{\"Monday\":26,\"Tuesday\":23,\"Wednesday\":23,\"Thur...</td>\n",
              "      <td>{\"android\":84,\"ios\":24}</td>\n",
              "      <td>Unknown</td>\n",
              "    </tr>\n",
              "  </tbody>\n",
              "</table>\n",
              "</div>"
            ],
            "text/plain": [
              "                 location_name  ...    Class\n",
              "0  MTA Bus College Point Depot  ...      Bus\n",
              "1           Broken Bow Airport  ...  Airport\n",
              "2      The Reserve at Bellevue  ...  Unknown\n",
              "\n",
              "[3 rows x 22 columns]"
            ]
          },
          "metadata": {
            "tags": []
          },
          "execution_count": 8
        }
      ]
    },
    {
      "cell_type": "code",
      "metadata": {
        "colab": {
          "base_uri": "https://localhost:8080/"
        },
        "id": "Uy-x-8AkMoS-",
        "outputId": "28570c8c-471d-4e29-a403-81856d7f0c09"
      },
      "source": [
        "transportation_df['Class'].value_counts()"
      ],
      "execution_count": null,
      "outputs": [
        {
          "output_type": "execute_result",
          "data": {
            "text/plain": [
              "Airport    3824\n",
              "Unknown    1482\n",
              "Train      1478\n",
              "Bus         667\n",
              "Name: Class, dtype: int64"
            ]
          },
          "metadata": {
            "tags": []
          },
          "execution_count": 9
        }
      ]
    },
    {
      "cell_type": "code",
      "metadata": {
        "colab": {
          "base_uri": "https://localhost:8080/",
          "height": 262
        },
        "id": "53eOSbIXMzMW",
        "outputId": "160f9607-b39a-43ce-d556-c9badeade6c2"
      },
      "source": [
        "#What are the columns marked as Unknown?\n",
        "transportation_df[transportation_df['Class'] == 'Unknown'].head(3)"
      ],
      "execution_count": null,
      "outputs": [
        {
          "output_type": "execute_result",
          "data": {
            "text/html": [
              "<div>\n",
              "<style scoped>\n",
              "    .dataframe tbody tr th:only-of-type {\n",
              "        vertical-align: middle;\n",
              "    }\n",
              "\n",
              "    .dataframe tbody tr th {\n",
              "        vertical-align: top;\n",
              "    }\n",
              "\n",
              "    .dataframe thead th {\n",
              "        text-align: right;\n",
              "    }\n",
              "</style>\n",
              "<table border=\"1\" class=\"dataframe\">\n",
              "  <thead>\n",
              "    <tr style=\"text-align: right;\">\n",
              "      <th></th>\n",
              "      <th>location_name</th>\n",
              "      <th>street_address</th>\n",
              "      <th>city</th>\n",
              "      <th>region</th>\n",
              "      <th>postal_code</th>\n",
              "      <th>date_range_start</th>\n",
              "      <th>date_range_end</th>\n",
              "      <th>raw_visit_counts</th>\n",
              "      <th>raw_visitor_counts</th>\n",
              "      <th>visits_by_day</th>\n",
              "      <th>visitor_home_cbgs</th>\n",
              "      <th>visitor_daytime_cbgs</th>\n",
              "      <th>visitor_country_of_origin</th>\n",
              "      <th>distance_from_home</th>\n",
              "      <th>median_dwell</th>\n",
              "      <th>bucketed_dwell_times</th>\n",
              "      <th>related_same_day_brand</th>\n",
              "      <th>related_same_month_brand</th>\n",
              "      <th>popularity_by_hour</th>\n",
              "      <th>popularity_by_day</th>\n",
              "      <th>device_type</th>\n",
              "      <th>Class</th>\n",
              "    </tr>\n",
              "  </thead>\n",
              "  <tbody>\n",
              "    <tr>\n",
              "      <th>2</th>\n",
              "      <td>The Reserve at Bellevue</td>\n",
              "      <td>7301 Ederville Rd</td>\n",
              "      <td>Fort Worth</td>\n",
              "      <td>TX</td>\n",
              "      <td>76112</td>\n",
              "      <td>2018-12-01T00:00:00-06:00</td>\n",
              "      <td>2019-01-01T00:00:00-06:00</td>\n",
              "      <td>164</td>\n",
              "      <td>104</td>\n",
              "      <td>[5,5,2,5,4,4,4,5,3,6,7,5,4,2,7,5,4,3,10,5,11,7...</td>\n",
              "      <td>{\"484391065031\":9,\"484391052053\":7,\"4843910651...</td>\n",
              "      <td>{\"481130165201\":4,\"484391219042\":4,\"4811301630...</td>\n",
              "      <td>{\"US\":87}</td>\n",
              "      <td>12406.0</td>\n",
              "      <td>36.5</td>\n",
              "      <td>{\"&lt;5\":9,\"5-10\":43,\"11-20\":17,\"21-60\":30,\"61-12...</td>\n",
              "      <td>{\"Mobil\":25,\"Williams Chicken\":20,\"Nissan\":20,...</td>\n",
              "      <td>{\"Family Dollar Stores\":19,\"Walmart\":17,\"Exxon...</td>\n",
              "      <td>[31,26,22,23,23,22,23,23,23,27,25,27,28,30,25,...</td>\n",
              "      <td>{\"Monday\":26,\"Tuesday\":23,\"Wednesday\":23,\"Thur...</td>\n",
              "      <td>{\"android\":84,\"ios\":24}</td>\n",
              "      <td>Unknown</td>\n",
              "    </tr>\n",
              "    <tr>\n",
              "      <th>42</th>\n",
              "      <td>G &amp; B Enterprises</td>\n",
              "      <td>1002 N Washington St</td>\n",
              "      <td>Junction City</td>\n",
              "      <td>KS</td>\n",
              "      <td>66441</td>\n",
              "      <td>2018-12-01T00:00:00-06:00</td>\n",
              "      <td>2019-01-01T00:00:00-06:00</td>\n",
              "      <td>1</td>\n",
              "      <td>1</td>\n",
              "      <td>[0,0,0,0,0,0,0,0,0,0,0,0,0,0,0,0,0,0,0,0,0,1,0...</td>\n",
              "      <td>{\"200610001003\":4}</td>\n",
              "      <td>{}</td>\n",
              "      <td>{}</td>\n",
              "      <td>NaN</td>\n",
              "      <td>939.0</td>\n",
              "      <td>{\"&lt;5\":0,\"5-10\":0,\"11-20\":0,\"21-60\":0,\"61-120\":...</td>\n",
              "      <td>{}</td>\n",
              "      <td>{\"IHOP\":98}</td>\n",
              "      <td>[1,1,1,1,1,1,1,1,1,1,0,0,0,0,0,0,0,0,1,1,1,1,1,1]</td>\n",
              "      <td>{\"Monday\":0,\"Tuesday\":0,\"Wednesday\":0,\"Thursda...</td>\n",
              "      <td>{\"android\":4,\"ios\":0}</td>\n",
              "      <td>Unknown</td>\n",
              "    </tr>\n",
              "    <tr>\n",
              "      <th>44</th>\n",
              "      <td>Hanging Lake Express</td>\n",
              "      <td>110 Wulfson Rd</td>\n",
              "      <td>Glenwood Springs</td>\n",
              "      <td>CO</td>\n",
              "      <td>81601</td>\n",
              "      <td>2018-12-01T00:00:00-07:00</td>\n",
              "      <td>2019-01-01T00:00:00-07:00</td>\n",
              "      <td>22</td>\n",
              "      <td>19</td>\n",
              "      <td>[1,1,0,1,0,0,0,0,0,2,1,0,0,1,1,0,0,1,2,1,0,1,1...</td>\n",
              "      <td>{\"080459519023\":4,\"040190036004\":4,\"0804595180...</td>\n",
              "      <td>{\"040190036005\":4,\"080010090023\":4,\"0804595190...</td>\n",
              "      <td>{\"US\":19}</td>\n",
              "      <td>132655.0</td>\n",
              "      <td>18.0</td>\n",
              "      <td>{\"&lt;5\":1,\"5-10\":8,\"11-20\":4,\"21-60\":3,\"61-120\":...</td>\n",
              "      <td>{\"City Market\":100,\"Safeway Fuel Station\":50}</td>\n",
              "      <td>{\"Starbucks\":45,\"Shell Oil\":41,\"Walmart\":40,\"L...</td>\n",
              "      <td>[0,0,0,0,0,0,1,2,0,1,4,4,5,6,3,1,6,4,1,1,0,0,0,0]</td>\n",
              "      <td>{\"Monday\":4,\"Tuesday\":3,\"Wednesday\":3,\"Thursda...</td>\n",
              "      <td>{\"android\":7,\"ios\":11}</td>\n",
              "      <td>Unknown</td>\n",
              "    </tr>\n",
              "  </tbody>\n",
              "</table>\n",
              "</div>"
            ],
            "text/plain": [
              "              location_name  ...    Class\n",
              "2   The Reserve at Bellevue  ...  Unknown\n",
              "42        G & B Enterprises  ...  Unknown\n",
              "44     Hanging Lake Express  ...  Unknown\n",
              "\n",
              "[3 rows x 22 columns]"
            ]
          },
          "metadata": {
            "tags": []
          },
          "execution_count": 10
        }
      ]
    },
    {
      "cell_type": "markdown",
      "metadata": {
        "id": "0uvkrU_THIhk"
      },
      "source": [
        "These unknown columns are representative of the Motor Transit records that come with the Bus data in the patterns data. We can drop these records becuase they are not exactly alligned with the notions of bus services - more tending towards ideas wuch as Truck services, and Yatch rentals and other transit services that are away from the concept of a bus service"
      ]
    },
    {
      "cell_type": "code",
      "metadata": {
        "colab": {
          "base_uri": "https://localhost:8080/",
          "height": 262
        },
        "id": "vJi1qXw6TRuZ",
        "outputId": "2b0149b8-d080-4b08-9468-b493ceb1e012"
      },
      "source": [
        "transportation_df = transportation_df[transportation_df['Class'] != 'Unknown'].dropna()\n",
        "transportation_df.head(3)"
      ],
      "execution_count": null,
      "outputs": [
        {
          "output_type": "execute_result",
          "data": {
            "text/html": [
              "<div>\n",
              "<style scoped>\n",
              "    .dataframe tbody tr th:only-of-type {\n",
              "        vertical-align: middle;\n",
              "    }\n",
              "\n",
              "    .dataframe tbody tr th {\n",
              "        vertical-align: top;\n",
              "    }\n",
              "\n",
              "    .dataframe thead th {\n",
              "        text-align: right;\n",
              "    }\n",
              "</style>\n",
              "<table border=\"1\" class=\"dataframe\">\n",
              "  <thead>\n",
              "    <tr style=\"text-align: right;\">\n",
              "      <th></th>\n",
              "      <th>location_name</th>\n",
              "      <th>street_address</th>\n",
              "      <th>city</th>\n",
              "      <th>region</th>\n",
              "      <th>postal_code</th>\n",
              "      <th>date_range_start</th>\n",
              "      <th>date_range_end</th>\n",
              "      <th>raw_visit_counts</th>\n",
              "      <th>raw_visitor_counts</th>\n",
              "      <th>visits_by_day</th>\n",
              "      <th>visitor_home_cbgs</th>\n",
              "      <th>visitor_daytime_cbgs</th>\n",
              "      <th>visitor_country_of_origin</th>\n",
              "      <th>distance_from_home</th>\n",
              "      <th>median_dwell</th>\n",
              "      <th>bucketed_dwell_times</th>\n",
              "      <th>related_same_day_brand</th>\n",
              "      <th>related_same_month_brand</th>\n",
              "      <th>popularity_by_hour</th>\n",
              "      <th>popularity_by_day</th>\n",
              "      <th>device_type</th>\n",
              "      <th>Class</th>\n",
              "    </tr>\n",
              "  </thead>\n",
              "  <tbody>\n",
              "    <tr>\n",
              "      <th>0</th>\n",
              "      <td>MTA Bus College Point Depot</td>\n",
              "      <td>12815 28th Ave</td>\n",
              "      <td>Flushing</td>\n",
              "      <td>NY</td>\n",
              "      <td>11354</td>\n",
              "      <td>2018-12-01T00:00:00-05:00</td>\n",
              "      <td>2019-01-01T00:00:00-05:00</td>\n",
              "      <td>819</td>\n",
              "      <td>119</td>\n",
              "      <td>[15,20,35,32,48,33,30,17,20,40,35,49,37,31,15,...</td>\n",
              "      <td>{\"360470836002\":4,\"360710143024\":4,\"3608114090...</td>\n",
              "      <td>{\"360810907001\":11,\"360810398001\":6,\"360810998...</td>\n",
              "      <td>{\"US\":112}</td>\n",
              "      <td>11643.0</td>\n",
              "      <td>33.0</td>\n",
              "      <td>{\"&lt;5\":16,\"5-10\":169,\"11-20\":137,\"21-60\":186,\"6...</td>\n",
              "      <td>{\"Nathan's Famous\":11,\"United Rentals\":10,\"Arb...</td>\n",
              "      <td>{\"Dunkin'\":26,\"BP\":22,\"McDonald's\":19,\"Subway\"...</td>\n",
              "      <td>[63,51,40,32,51,66,114,99,136,146,166,163,136,...</td>\n",
              "      <td>{\"Monday\":174,\"Tuesday\":107,\"Wednesday\":158,\"T...</td>\n",
              "      <td>{\"android\":91,\"ios\":29}</td>\n",
              "      <td>Bus</td>\n",
              "    </tr>\n",
              "    <tr>\n",
              "      <th>1</th>\n",
              "      <td>Broken Bow Airport</td>\n",
              "      <td>Broken Bow Airport</td>\n",
              "      <td>Broken Bow</td>\n",
              "      <td>OK</td>\n",
              "      <td>74728</td>\n",
              "      <td>2018-12-01T00:00:00-06:00</td>\n",
              "      <td>2019-01-01T00:00:00-06:00</td>\n",
              "      <td>67</td>\n",
              "      <td>27</td>\n",
              "      <td>[0,0,1,2,1,1,1,4,3,2,1,5,3,3,2,0,4,1,3,11,5,3,...</td>\n",
              "      <td>{\"400890986002\":6,\"481390602142\":4,\"4008909850...</td>\n",
              "      <td>{\"400890985002\":4,\"050850201011\":4,\"4008909860...</td>\n",
              "      <td>{\"US\":26}</td>\n",
              "      <td>3850.0</td>\n",
              "      <td>20.0</td>\n",
              "      <td>{\"&lt;5\":0,\"5-10\":19,\"11-20\":15,\"21-60\":15,\"61-12...</td>\n",
              "      <td>{}</td>\n",
              "      <td>{\"E-Z Mart\":18,\"Phillips 66\":18,\"Sharpe's\":15,...</td>\n",
              "      <td>[6,7,8,8,7,5,6,8,9,6,8,8,13,11,13,9,8,4,5,4,4,...</td>\n",
              "      <td>{\"Monday\":10,\"Tuesday\":5,\"Wednesday\":10,\"Thurs...</td>\n",
              "      <td>{\"android\":23,\"ios\":4}</td>\n",
              "      <td>Airport</td>\n",
              "    </tr>\n",
              "    <tr>\n",
              "      <th>3</th>\n",
              "      <td>Edgar County Airport</td>\n",
              "      <td>Edgar County Airport</td>\n",
              "      <td>Paris</td>\n",
              "      <td>IL</td>\n",
              "      <td>61944</td>\n",
              "      <td>2018-12-01T00:00:00-06:00</td>\n",
              "      <td>2019-01-01T00:00:00-06:00</td>\n",
              "      <td>41</td>\n",
              "      <td>10</td>\n",
              "      <td>[0,0,2,1,2,1,1,0,0,3,2,0,2,2,0,0,4,2,1,2,4,2,0...</td>\n",
              "      <td>{\"170450704004\":4}</td>\n",
              "      <td>{\"170450704004\":4,\"170450701002\":4}</td>\n",
              "      <td>{\"US\":6}</td>\n",
              "      <td>9462.0</td>\n",
              "      <td>42.0</td>\n",
              "      <td>{\"&lt;5\":0,\"5-10\":14,\"11-20\":1,\"21-60\":13,\"61-120...</td>\n",
              "      <td>{}</td>\n",
              "      <td>{\"Walmart\":62,\"Casey's General Stores\":49,\"Jo-...</td>\n",
              "      <td>[0,0,0,0,0,0,0,9,7,7,9,11,7,11,14,7,3,1,0,0,0,...</td>\n",
              "      <td>{\"Monday\":9,\"Tuesday\":5,\"Wednesday\":5,\"Thursda...</td>\n",
              "      <td>{\"android\":6,\"ios\":7}</td>\n",
              "      <td>Airport</td>\n",
              "    </tr>\n",
              "  </tbody>\n",
              "</table>\n",
              "</div>"
            ],
            "text/plain": [
              "                 location_name  ...    Class\n",
              "0  MTA Bus College Point Depot  ...      Bus\n",
              "1           Broken Bow Airport  ...  Airport\n",
              "3         Edgar County Airport  ...  Airport\n",
              "\n",
              "[3 rows x 22 columns]"
            ]
          },
          "metadata": {
            "tags": []
          },
          "execution_count": 11
        }
      ]
    },
    {
      "cell_type": "markdown",
      "metadata": {
        "id": "kOZLRwhtYFKP"
      },
      "source": [
        "### Horizontal Expansion of JSON Columns"
      ]
    },
    {
      "cell_type": "markdown",
      "metadata": {
        "id": "3aCp9zANIxP8"
      },
      "source": [
        "The data is prepared in all needed ways except for the horizontal expansion of the JSON columns. This can be done easily through the use of pyspark."
      ]
    },
    {
      "cell_type": "code",
      "metadata": {
        "colab": {
          "base_uri": "https://localhost:8080/"
        },
        "id": "BzRJqI9ueFP8",
        "outputId": "c491962b-0680-4037-8955-bbef40384cf8"
      },
      "source": [
        "#Conversion to Spark_df\n",
        "transportation_df = spark.createDataFrame(transportation_df)\n",
        "transportation_df.show(2)"
      ],
      "execution_count": null,
      "outputs": [
        {
          "output_type": "stream",
          "text": [
            "+--------------------+------------------+----------+------+-----------+--------------------+--------------------+----------------+------------------+--------------------+--------------------+--------------------+-------------------------+------------------+------------+--------------------+----------------------+------------------------+--------------------+--------------------+--------------------+-------+\n",
            "|       location_name|    street_address|      city|region|postal_code|    date_range_start|      date_range_end|raw_visit_counts|raw_visitor_counts|       visits_by_day|   visitor_home_cbgs|visitor_daytime_cbgs|visitor_country_of_origin|distance_from_home|median_dwell|bucketed_dwell_times|related_same_day_brand|related_same_month_brand|  popularity_by_hour|   popularity_by_day|         device_type|  Class|\n",
            "+--------------------+------------------+----------+------+-----------+--------------------+--------------------+----------------+------------------+--------------------+--------------------+--------------------+-------------------------+------------------+------------+--------------------+----------------------+------------------------+--------------------+--------------------+--------------------+-------+\n",
            "|MTA Bus College P...|    12815 28th Ave|  Flushing|    NY|      11354|2018-12-01T00:00:...|2019-01-01T00:00:...|             819|               119|[15,20,35,32,48,3...|{\"360470836002\":4...|{\"360810907001\":1...|               {\"US\":112}|           11643.0|        33.0|{\"<5\":16,\"5-10\":1...|  {\"Nathan's Famous...|    {\"Dunkin'\":26,\"BP...|[63,51,40,32,51,6...|{\"Monday\":174,\"Tu...|{\"android\":91,\"io...|    Bus|\n",
            "|  Broken Bow Airport|Broken Bow Airport|Broken Bow|    OK|      74728|2018-12-01T00:00:...|2019-01-01T00:00:...|              67|                27|[0,0,1,2,1,1,1,4,...|{\"400890986002\":6...|{\"400890985002\":4...|                {\"US\":26}|            3850.0|        20.0|{\"<5\":0,\"5-10\":19...|                    {}|    {\"E-Z Mart\":18,\"P...|[6,7,8,8,7,5,6,8,...|{\"Monday\":10,\"Tue...|{\"android\":23,\"io...|Airport|\n",
            "+--------------------+------------------+----------+------+-----------+--------------------+--------------------+----------------+------------------+--------------------+--------------------+--------------------+-------------------------+------------------+------------+--------------------+----------------------+------------------------+--------------------+--------------------+--------------------+-------+\n",
            "only showing top 2 rows\n",
            "\n"
          ],
          "name": "stdout"
        }
      ]
    },
    {
      "cell_type": "code",
      "metadata": {
        "colab": {
          "base_uri": "https://localhost:8080/"
        },
        "id": "P8N0fKVPePSg",
        "outputId": "fc977868-c39d-44c7-8e2a-8feef9fcc4cc"
      },
      "source": [
        "#Horizontal Explosion of JSON columns using Pyspark\n",
        "from pyspark.sql.functions import from_json,expr\n",
        "from pyspark.sql.types import StructType, StructField, StringType, ArrayType, IntegerType\n",
        "\n",
        "day_schema = StructType(\n",
        "    [\n",
        "      StructField('Monday', IntegerType(),True),\n",
        "      StructField('Tuesday', IntegerType(),True),\n",
        "      StructField('Wednesday', IntegerType(),True),\n",
        "      StructField('Thursday', IntegerType(),True),\n",
        "      StructField('Friday', IntegerType(),True),\n",
        "      StructField('Saturday', IntegerType(),True),\n",
        "      StructField('Sunday', IntegerType(),True)\n",
        "    ]\n",
        ")\n",
        "device_schema = StructType(\n",
        "    [\n",
        "      StructField('android', IntegerType(),True),\n",
        "      StructField('ios', IntegerType(),True)\n",
        "    ]\n",
        ")\n",
        "bucketedDT_schema = StructType(\n",
        "    [\n",
        "     StructField('<5',IntegerType(),True),\n",
        "     StructField('5-10',IntegerType(),True),\n",
        "     StructField('11-20',IntegerType(),True),\n",
        "     StructField('21-60',IntegerType(),True),\n",
        "     StructField('61-120',IntegerType(),True),\n",
        "     StructField('121-240',IntegerType(),True),\n",
        "     StructField('>240',IntegerType(),True)\n",
        "    ]\n",
        ")\n",
        "transportation_df = transportation_df.withColumn('popularity_by_day', from_json('popularity_by_day', day_schema)).withColumn('device_type', from_json('device_type', device_schema)).withColumn('bucketed_dwell_times',from_json('bucketed_dwell_times',bucketedDT_schema)).select('location_name','raw_visit_counts','raw_visitor_counts','visits_by_day',\n",
        "          'distance_from_home','median_dwell',\n",
        "          'bucketed_dwell_times.*','popularity_by_hour','popularity_by_day.*',\n",
        "          'device_type.*','Class')\n",
        "transportation_df = transportation_df.toPandas()\n",
        "transportation_df.head(3)"
      ],
      "execution_count": null,
      "outputs": [
        {
          "output_type": "execute_result",
          "data": {
            "text/html": [
              "<div>\n",
              "<style scoped>\n",
              "    .dataframe tbody tr th:only-of-type {\n",
              "        vertical-align: middle;\n",
              "    }\n",
              "\n",
              "    .dataframe tbody tr th {\n",
              "        vertical-align: top;\n",
              "    }\n",
              "\n",
              "    .dataframe thead th {\n",
              "        text-align: right;\n",
              "    }\n",
              "</style>\n",
              "<table border=\"1\" class=\"dataframe\">\n",
              "  <thead>\n",
              "    <tr style=\"text-align: right;\">\n",
              "      <th></th>\n",
              "      <th>location_name</th>\n",
              "      <th>raw_visit_counts</th>\n",
              "      <th>raw_visitor_counts</th>\n",
              "      <th>visits_by_day</th>\n",
              "      <th>distance_from_home</th>\n",
              "      <th>median_dwell</th>\n",
              "      <th>&lt;5</th>\n",
              "      <th>5-10</th>\n",
              "      <th>11-20</th>\n",
              "      <th>21-60</th>\n",
              "      <th>61-120</th>\n",
              "      <th>121-240</th>\n",
              "      <th>&gt;240</th>\n",
              "      <th>popularity_by_hour</th>\n",
              "      <th>Monday</th>\n",
              "      <th>Tuesday</th>\n",
              "      <th>Wednesday</th>\n",
              "      <th>Thursday</th>\n",
              "      <th>Friday</th>\n",
              "      <th>Saturday</th>\n",
              "      <th>Sunday</th>\n",
              "      <th>android</th>\n",
              "      <th>ios</th>\n",
              "      <th>Class</th>\n",
              "    </tr>\n",
              "  </thead>\n",
              "  <tbody>\n",
              "    <tr>\n",
              "      <th>0</th>\n",
              "      <td>MTA Bus College Point Depot</td>\n",
              "      <td>819</td>\n",
              "      <td>119</td>\n",
              "      <td>[15,20,35,32,48,33,30,17,20,40,35,49,37,31,15,...</td>\n",
              "      <td>11643.0</td>\n",
              "      <td>33.0</td>\n",
              "      <td>16</td>\n",
              "      <td>169</td>\n",
              "      <td>137</td>\n",
              "      <td>186</td>\n",
              "      <td>111</td>\n",
              "      <td>97</td>\n",
              "      <td>103</td>\n",
              "      <td>[63,51,40,32,51,66,114,99,136,146,166,163,136,...</td>\n",
              "      <td>174</td>\n",
              "      <td>107</td>\n",
              "      <td>158</td>\n",
              "      <td>119</td>\n",
              "      <td>107</td>\n",
              "      <td>72</td>\n",
              "      <td>82</td>\n",
              "      <td>91</td>\n",
              "      <td>29</td>\n",
              "      <td>Bus</td>\n",
              "    </tr>\n",
              "    <tr>\n",
              "      <th>1</th>\n",
              "      <td>Broken Bow Airport</td>\n",
              "      <td>67</td>\n",
              "      <td>27</td>\n",
              "      <td>[0,0,1,2,1,1,1,4,3,2,1,5,3,3,2,0,4,1,3,11,5,3,...</td>\n",
              "      <td>3850.0</td>\n",
              "      <td>20.0</td>\n",
              "      <td>0</td>\n",
              "      <td>19</td>\n",
              "      <td>15</td>\n",
              "      <td>15</td>\n",
              "      <td>6</td>\n",
              "      <td>4</td>\n",
              "      <td>8</td>\n",
              "      <td>[6,7,8,8,7,5,6,8,9,6,8,8,13,11,13,9,8,4,5,4,4,...</td>\n",
              "      <td>10</td>\n",
              "      <td>5</td>\n",
              "      <td>10</td>\n",
              "      <td>18</td>\n",
              "      <td>10</td>\n",
              "      <td>9</td>\n",
              "      <td>5</td>\n",
              "      <td>23</td>\n",
              "      <td>4</td>\n",
              "      <td>Airport</td>\n",
              "    </tr>\n",
              "    <tr>\n",
              "      <th>2</th>\n",
              "      <td>Edgar County Airport</td>\n",
              "      <td>41</td>\n",
              "      <td>10</td>\n",
              "      <td>[0,0,2,1,2,1,1,0,0,3,2,0,2,2,0,0,4,2,1,2,4,2,0...</td>\n",
              "      <td>9462.0</td>\n",
              "      <td>42.0</td>\n",
              "      <td>0</td>\n",
              "      <td>14</td>\n",
              "      <td>1</td>\n",
              "      <td>13</td>\n",
              "      <td>7</td>\n",
              "      <td>3</td>\n",
              "      <td>3</td>\n",
              "      <td>[0,0,0,0,0,0,0,9,7,7,9,11,7,11,14,7,3,1,0,0,0,...</td>\n",
              "      <td>9</td>\n",
              "      <td>5</td>\n",
              "      <td>5</td>\n",
              "      <td>6</td>\n",
              "      <td>8</td>\n",
              "      <td>2</td>\n",
              "      <td>6</td>\n",
              "      <td>6</td>\n",
              "      <td>7</td>\n",
              "      <td>Airport</td>\n",
              "    </tr>\n",
              "  </tbody>\n",
              "</table>\n",
              "</div>"
            ],
            "text/plain": [
              "                 location_name  raw_visit_counts  ...  ios    Class\n",
              "0  MTA Bus College Point Depot               819  ...   29      Bus\n",
              "1           Broken Bow Airport                67  ...    4  Airport\n",
              "2         Edgar County Airport                41  ...    7  Airport\n",
              "\n",
              "[3 rows x 24 columns]"
            ]
          },
          "metadata": {
            "tags": []
          },
          "execution_count": 13
        }
      ]
    },
    {
      "cell_type": "markdown",
      "metadata": {
        "id": "9Eh74ZX2JOLD"
      },
      "source": [
        "Expansion of the array columns such as visits and popularity"
      ]
    },
    {
      "cell_type": "code",
      "metadata": {
        "colab": {
          "base_uri": "https://localhost:8080/"
        },
        "id": "64qsbvCjxDcb",
        "outputId": "f0f97640-b792-4025-9bcd-03c8868e1067"
      },
      "source": [
        "\n",
        "# transportation_df['visits_by_day'] = transportation_df['visits_by_day'].transform(lambda x: literal_eval(x))\n",
        "# visits = ['visits_' + str(i) for i in range(1,32)]\n",
        "# transportation_df[visits] = pd.DataFrame(transportation_df.visits_by_day.to_list(), index=transportation_df.index)\n",
        "# transportation_df = transportation_df.drop(['visits_by_day'], axis = 1)\n",
        "# transportation_df = transportation_df.reindex()\n",
        "\n",
        "from ast import literal_eval\n",
        "\n",
        "transportation_df['popularity_by_hour'] = transportation_df['popularity_by_hour'].transform(lambda x: literal_eval(x))\n",
        "pops = ['popularity_' + str(i) for i in range(1,25)]\n",
        "transportation_df[pops] = pd.DataFrame(transportation_df.popularity_by_hour.to_list(), index=transportation_df.index)\n",
        "transportation_df = transportation_df.drop(['popularity_by_hour'], axis = 1)\n",
        "transportation_df = transportation_df.reindex()\n",
        "\n",
        "transportation_df.drop('visits_by_day', axis=1, inplace=True)\n",
        "\n",
        "transportation_df.head(3)"
      ],
      "execution_count": null,
      "outputs": [
        {
          "output_type": "execute_result",
          "data": {
            "text/html": [
              "<div>\n",
              "<style scoped>\n",
              "    .dataframe tbody tr th:only-of-type {\n",
              "        vertical-align: middle;\n",
              "    }\n",
              "\n",
              "    .dataframe tbody tr th {\n",
              "        vertical-align: top;\n",
              "    }\n",
              "\n",
              "    .dataframe thead th {\n",
              "        text-align: right;\n",
              "    }\n",
              "</style>\n",
              "<table border=\"1\" class=\"dataframe\">\n",
              "  <thead>\n",
              "    <tr style=\"text-align: right;\">\n",
              "      <th></th>\n",
              "      <th>location_name</th>\n",
              "      <th>raw_visit_counts</th>\n",
              "      <th>raw_visitor_counts</th>\n",
              "      <th>distance_from_home</th>\n",
              "      <th>median_dwell</th>\n",
              "      <th>&lt;5</th>\n",
              "      <th>5-10</th>\n",
              "      <th>11-20</th>\n",
              "      <th>21-60</th>\n",
              "      <th>61-120</th>\n",
              "      <th>121-240</th>\n",
              "      <th>&gt;240</th>\n",
              "      <th>Monday</th>\n",
              "      <th>Tuesday</th>\n",
              "      <th>Wednesday</th>\n",
              "      <th>Thursday</th>\n",
              "      <th>Friday</th>\n",
              "      <th>Saturday</th>\n",
              "      <th>Sunday</th>\n",
              "      <th>android</th>\n",
              "      <th>ios</th>\n",
              "      <th>Class</th>\n",
              "      <th>popularity_1</th>\n",
              "      <th>popularity_2</th>\n",
              "      <th>popularity_3</th>\n",
              "      <th>popularity_4</th>\n",
              "      <th>popularity_5</th>\n",
              "      <th>popularity_6</th>\n",
              "      <th>popularity_7</th>\n",
              "      <th>popularity_8</th>\n",
              "      <th>popularity_9</th>\n",
              "      <th>popularity_10</th>\n",
              "      <th>popularity_11</th>\n",
              "      <th>popularity_12</th>\n",
              "      <th>popularity_13</th>\n",
              "      <th>popularity_14</th>\n",
              "      <th>popularity_15</th>\n",
              "      <th>popularity_16</th>\n",
              "      <th>popularity_17</th>\n",
              "      <th>popularity_18</th>\n",
              "      <th>popularity_19</th>\n",
              "      <th>popularity_20</th>\n",
              "      <th>popularity_21</th>\n",
              "      <th>popularity_22</th>\n",
              "      <th>popularity_23</th>\n",
              "      <th>popularity_24</th>\n",
              "    </tr>\n",
              "  </thead>\n",
              "  <tbody>\n",
              "    <tr>\n",
              "      <th>0</th>\n",
              "      <td>MTA Bus College Point Depot</td>\n",
              "      <td>819</td>\n",
              "      <td>119</td>\n",
              "      <td>11643.0</td>\n",
              "      <td>33.0</td>\n",
              "      <td>16</td>\n",
              "      <td>169</td>\n",
              "      <td>137</td>\n",
              "      <td>186</td>\n",
              "      <td>111</td>\n",
              "      <td>97</td>\n",
              "      <td>103</td>\n",
              "      <td>174</td>\n",
              "      <td>107</td>\n",
              "      <td>158</td>\n",
              "      <td>119</td>\n",
              "      <td>107</td>\n",
              "      <td>72</td>\n",
              "      <td>82</td>\n",
              "      <td>91</td>\n",
              "      <td>29</td>\n",
              "      <td>Bus</td>\n",
              "      <td>63</td>\n",
              "      <td>51</td>\n",
              "      <td>40</td>\n",
              "      <td>32</td>\n",
              "      <td>51</td>\n",
              "      <td>66</td>\n",
              "      <td>114</td>\n",
              "      <td>99</td>\n",
              "      <td>136</td>\n",
              "      <td>146</td>\n",
              "      <td>166</td>\n",
              "      <td>163</td>\n",
              "      <td>136</td>\n",
              "      <td>160</td>\n",
              "      <td>121</td>\n",
              "      <td>104</td>\n",
              "      <td>91</td>\n",
              "      <td>41</td>\n",
              "      <td>76</td>\n",
              "      <td>42</td>\n",
              "      <td>42</td>\n",
              "      <td>40</td>\n",
              "      <td>44</td>\n",
              "      <td>51</td>\n",
              "    </tr>\n",
              "    <tr>\n",
              "      <th>1</th>\n",
              "      <td>Broken Bow Airport</td>\n",
              "      <td>67</td>\n",
              "      <td>27</td>\n",
              "      <td>3850.0</td>\n",
              "      <td>20.0</td>\n",
              "      <td>0</td>\n",
              "      <td>19</td>\n",
              "      <td>15</td>\n",
              "      <td>15</td>\n",
              "      <td>6</td>\n",
              "      <td>4</td>\n",
              "      <td>8</td>\n",
              "      <td>10</td>\n",
              "      <td>5</td>\n",
              "      <td>10</td>\n",
              "      <td>18</td>\n",
              "      <td>10</td>\n",
              "      <td>9</td>\n",
              "      <td>5</td>\n",
              "      <td>23</td>\n",
              "      <td>4</td>\n",
              "      <td>Airport</td>\n",
              "      <td>6</td>\n",
              "      <td>7</td>\n",
              "      <td>8</td>\n",
              "      <td>8</td>\n",
              "      <td>7</td>\n",
              "      <td>5</td>\n",
              "      <td>6</td>\n",
              "      <td>8</td>\n",
              "      <td>9</td>\n",
              "      <td>6</td>\n",
              "      <td>8</td>\n",
              "      <td>8</td>\n",
              "      <td>13</td>\n",
              "      <td>11</td>\n",
              "      <td>13</td>\n",
              "      <td>9</td>\n",
              "      <td>8</td>\n",
              "      <td>4</td>\n",
              "      <td>5</td>\n",
              "      <td>4</td>\n",
              "      <td>4</td>\n",
              "      <td>8</td>\n",
              "      <td>7</td>\n",
              "      <td>6</td>\n",
              "    </tr>\n",
              "    <tr>\n",
              "      <th>2</th>\n",
              "      <td>Edgar County Airport</td>\n",
              "      <td>41</td>\n",
              "      <td>10</td>\n",
              "      <td>9462.0</td>\n",
              "      <td>42.0</td>\n",
              "      <td>0</td>\n",
              "      <td>14</td>\n",
              "      <td>1</td>\n",
              "      <td>13</td>\n",
              "      <td>7</td>\n",
              "      <td>3</td>\n",
              "      <td>3</td>\n",
              "      <td>9</td>\n",
              "      <td>5</td>\n",
              "      <td>5</td>\n",
              "      <td>6</td>\n",
              "      <td>8</td>\n",
              "      <td>2</td>\n",
              "      <td>6</td>\n",
              "      <td>6</td>\n",
              "      <td>7</td>\n",
              "      <td>Airport</td>\n",
              "      <td>0</td>\n",
              "      <td>0</td>\n",
              "      <td>0</td>\n",
              "      <td>0</td>\n",
              "      <td>0</td>\n",
              "      <td>0</td>\n",
              "      <td>0</td>\n",
              "      <td>9</td>\n",
              "      <td>7</td>\n",
              "      <td>7</td>\n",
              "      <td>9</td>\n",
              "      <td>11</td>\n",
              "      <td>7</td>\n",
              "      <td>11</td>\n",
              "      <td>14</td>\n",
              "      <td>7</td>\n",
              "      <td>3</td>\n",
              "      <td>1</td>\n",
              "      <td>0</td>\n",
              "      <td>0</td>\n",
              "      <td>0</td>\n",
              "      <td>0</td>\n",
              "      <td>0</td>\n",
              "      <td>0</td>\n",
              "    </tr>\n",
              "  </tbody>\n",
              "</table>\n",
              "</div>"
            ],
            "text/plain": [
              "                 location_name  raw_visit_counts  ...  popularity_23  popularity_24\n",
              "0  MTA Bus College Point Depot               819  ...             44             51\n",
              "1           Broken Bow Airport                67  ...              7              6\n",
              "2         Edgar County Airport                41  ...              0              0\n",
              "\n",
              "[3 rows x 46 columns]"
            ]
          },
          "metadata": {
            "tags": []
          },
          "execution_count": 14
        }
      ]
    },
    {
      "cell_type": "markdown",
      "metadata": {
        "id": "p2tXHBO-afES"
      },
      "source": [
        "Add the class label to our data"
      ]
    },
    {
      "cell_type": "code",
      "metadata": {
        "colab": {
          "base_uri": "https://localhost:8080/"
        },
        "id": "65hXhcEWtfrB",
        "outputId": "b5a116fd-5885-4822-abb2-2cad53997f77"
      },
      "source": [
        "from sklearn import preprocessing\n",
        "le = preprocessing.LabelEncoder()\n",
        "le.fit(transportation_df['Class'])\n",
        "transportation_df['Class'] = le.transform(transportation_df['Class'])\n",
        "transportation_df.head(3)"
      ],
      "execution_count": null,
      "outputs": [
        {
          "output_type": "execute_result",
          "data": {
            "text/html": [
              "<div>\n",
              "<style scoped>\n",
              "    .dataframe tbody tr th:only-of-type {\n",
              "        vertical-align: middle;\n",
              "    }\n",
              "\n",
              "    .dataframe tbody tr th {\n",
              "        vertical-align: top;\n",
              "    }\n",
              "\n",
              "    .dataframe thead th {\n",
              "        text-align: right;\n",
              "    }\n",
              "</style>\n",
              "<table border=\"1\" class=\"dataframe\">\n",
              "  <thead>\n",
              "    <tr style=\"text-align: right;\">\n",
              "      <th></th>\n",
              "      <th>location_name</th>\n",
              "      <th>raw_visit_counts</th>\n",
              "      <th>raw_visitor_counts</th>\n",
              "      <th>distance_from_home</th>\n",
              "      <th>median_dwell</th>\n",
              "      <th>&lt;5</th>\n",
              "      <th>5-10</th>\n",
              "      <th>11-20</th>\n",
              "      <th>21-60</th>\n",
              "      <th>61-120</th>\n",
              "      <th>121-240</th>\n",
              "      <th>&gt;240</th>\n",
              "      <th>Monday</th>\n",
              "      <th>Tuesday</th>\n",
              "      <th>Wednesday</th>\n",
              "      <th>Thursday</th>\n",
              "      <th>Friday</th>\n",
              "      <th>Saturday</th>\n",
              "      <th>Sunday</th>\n",
              "      <th>android</th>\n",
              "      <th>ios</th>\n",
              "      <th>Class</th>\n",
              "      <th>popularity_1</th>\n",
              "      <th>popularity_2</th>\n",
              "      <th>popularity_3</th>\n",
              "      <th>popularity_4</th>\n",
              "      <th>popularity_5</th>\n",
              "      <th>popularity_6</th>\n",
              "      <th>popularity_7</th>\n",
              "      <th>popularity_8</th>\n",
              "      <th>popularity_9</th>\n",
              "      <th>popularity_10</th>\n",
              "      <th>popularity_11</th>\n",
              "      <th>popularity_12</th>\n",
              "      <th>popularity_13</th>\n",
              "      <th>popularity_14</th>\n",
              "      <th>popularity_15</th>\n",
              "      <th>popularity_16</th>\n",
              "      <th>popularity_17</th>\n",
              "      <th>popularity_18</th>\n",
              "      <th>popularity_19</th>\n",
              "      <th>popularity_20</th>\n",
              "      <th>popularity_21</th>\n",
              "      <th>popularity_22</th>\n",
              "      <th>popularity_23</th>\n",
              "      <th>popularity_24</th>\n",
              "    </tr>\n",
              "  </thead>\n",
              "  <tbody>\n",
              "    <tr>\n",
              "      <th>0</th>\n",
              "      <td>MTA Bus College Point Depot</td>\n",
              "      <td>819</td>\n",
              "      <td>119</td>\n",
              "      <td>11643.0</td>\n",
              "      <td>33.0</td>\n",
              "      <td>16</td>\n",
              "      <td>169</td>\n",
              "      <td>137</td>\n",
              "      <td>186</td>\n",
              "      <td>111</td>\n",
              "      <td>97</td>\n",
              "      <td>103</td>\n",
              "      <td>174</td>\n",
              "      <td>107</td>\n",
              "      <td>158</td>\n",
              "      <td>119</td>\n",
              "      <td>107</td>\n",
              "      <td>72</td>\n",
              "      <td>82</td>\n",
              "      <td>91</td>\n",
              "      <td>29</td>\n",
              "      <td>1</td>\n",
              "      <td>63</td>\n",
              "      <td>51</td>\n",
              "      <td>40</td>\n",
              "      <td>32</td>\n",
              "      <td>51</td>\n",
              "      <td>66</td>\n",
              "      <td>114</td>\n",
              "      <td>99</td>\n",
              "      <td>136</td>\n",
              "      <td>146</td>\n",
              "      <td>166</td>\n",
              "      <td>163</td>\n",
              "      <td>136</td>\n",
              "      <td>160</td>\n",
              "      <td>121</td>\n",
              "      <td>104</td>\n",
              "      <td>91</td>\n",
              "      <td>41</td>\n",
              "      <td>76</td>\n",
              "      <td>42</td>\n",
              "      <td>42</td>\n",
              "      <td>40</td>\n",
              "      <td>44</td>\n",
              "      <td>51</td>\n",
              "    </tr>\n",
              "    <tr>\n",
              "      <th>1</th>\n",
              "      <td>Broken Bow Airport</td>\n",
              "      <td>67</td>\n",
              "      <td>27</td>\n",
              "      <td>3850.0</td>\n",
              "      <td>20.0</td>\n",
              "      <td>0</td>\n",
              "      <td>19</td>\n",
              "      <td>15</td>\n",
              "      <td>15</td>\n",
              "      <td>6</td>\n",
              "      <td>4</td>\n",
              "      <td>8</td>\n",
              "      <td>10</td>\n",
              "      <td>5</td>\n",
              "      <td>10</td>\n",
              "      <td>18</td>\n",
              "      <td>10</td>\n",
              "      <td>9</td>\n",
              "      <td>5</td>\n",
              "      <td>23</td>\n",
              "      <td>4</td>\n",
              "      <td>0</td>\n",
              "      <td>6</td>\n",
              "      <td>7</td>\n",
              "      <td>8</td>\n",
              "      <td>8</td>\n",
              "      <td>7</td>\n",
              "      <td>5</td>\n",
              "      <td>6</td>\n",
              "      <td>8</td>\n",
              "      <td>9</td>\n",
              "      <td>6</td>\n",
              "      <td>8</td>\n",
              "      <td>8</td>\n",
              "      <td>13</td>\n",
              "      <td>11</td>\n",
              "      <td>13</td>\n",
              "      <td>9</td>\n",
              "      <td>8</td>\n",
              "      <td>4</td>\n",
              "      <td>5</td>\n",
              "      <td>4</td>\n",
              "      <td>4</td>\n",
              "      <td>8</td>\n",
              "      <td>7</td>\n",
              "      <td>6</td>\n",
              "    </tr>\n",
              "    <tr>\n",
              "      <th>2</th>\n",
              "      <td>Edgar County Airport</td>\n",
              "      <td>41</td>\n",
              "      <td>10</td>\n",
              "      <td>9462.0</td>\n",
              "      <td>42.0</td>\n",
              "      <td>0</td>\n",
              "      <td>14</td>\n",
              "      <td>1</td>\n",
              "      <td>13</td>\n",
              "      <td>7</td>\n",
              "      <td>3</td>\n",
              "      <td>3</td>\n",
              "      <td>9</td>\n",
              "      <td>5</td>\n",
              "      <td>5</td>\n",
              "      <td>6</td>\n",
              "      <td>8</td>\n",
              "      <td>2</td>\n",
              "      <td>6</td>\n",
              "      <td>6</td>\n",
              "      <td>7</td>\n",
              "      <td>0</td>\n",
              "      <td>0</td>\n",
              "      <td>0</td>\n",
              "      <td>0</td>\n",
              "      <td>0</td>\n",
              "      <td>0</td>\n",
              "      <td>0</td>\n",
              "      <td>0</td>\n",
              "      <td>9</td>\n",
              "      <td>7</td>\n",
              "      <td>7</td>\n",
              "      <td>9</td>\n",
              "      <td>11</td>\n",
              "      <td>7</td>\n",
              "      <td>11</td>\n",
              "      <td>14</td>\n",
              "      <td>7</td>\n",
              "      <td>3</td>\n",
              "      <td>1</td>\n",
              "      <td>0</td>\n",
              "      <td>0</td>\n",
              "      <td>0</td>\n",
              "      <td>0</td>\n",
              "      <td>0</td>\n",
              "      <td>0</td>\n",
              "    </tr>\n",
              "  </tbody>\n",
              "</table>\n",
              "</div>"
            ],
            "text/plain": [
              "                 location_name  raw_visit_counts  ...  popularity_23  popularity_24\n",
              "0  MTA Bus College Point Depot               819  ...             44             51\n",
              "1           Broken Bow Airport                67  ...              7              6\n",
              "2         Edgar County Airport                41  ...              0              0\n",
              "\n",
              "[3 rows x 46 columns]"
            ]
          },
          "metadata": {
            "tags": []
          },
          "execution_count": 15
        }
      ]
    },
    {
      "cell_type": "markdown",
      "metadata": {
        "id": "vCYxPgUV_96y"
      },
      "source": [
        "## Classification Algorithims"
      ]
    },
    {
      "cell_type": "markdown",
      "metadata": {
        "id": "BW0ALvXHKrO6"
      },
      "source": [
        "Since there are 3 unique classes, we need to use a multiclass classifier. We will try Gaussian Naive Bayes, Decision Trees, K-Nearest Neighbors, and the SVM Classifier. First, we must split our data into test and train sets."
      ]
    },
    {
      "cell_type": "code",
      "metadata": {
        "colab": {
          "base_uri": "https://localhost:8080/",
          "height": 178
        },
        "id": "i0M033vepC21",
        "outputId": "48028883-9eb3-4580-9f62-e84d82ddfddc"
      },
      "source": [
        "from sklearn.metrics import confusion_matrix\n",
        "from sklearn.model_selection import train_test_split\n",
        "x_cols = []\n",
        "for item in list(transportation_df.columns):\n",
        "  if(item != 'Class' and item != 'location_name'):\n",
        "    x_cols.append(item)\n",
        "X = transportation_df[x_cols]\n",
        "y = transportation_df['Class']\n",
        "\n",
        "X_train, X_test, y_train, y_test = train_test_split(X, y, random_state = 0)\n",
        "X.head(3)"
      ],
      "execution_count": null,
      "outputs": [
        {
          "output_type": "execute_result",
          "data": {
            "text/html": [
              "<div>\n",
              "<style scoped>\n",
              "    .dataframe tbody tr th:only-of-type {\n",
              "        vertical-align: middle;\n",
              "    }\n",
              "\n",
              "    .dataframe tbody tr th {\n",
              "        vertical-align: top;\n",
              "    }\n",
              "\n",
              "    .dataframe thead th {\n",
              "        text-align: right;\n",
              "    }\n",
              "</style>\n",
              "<table border=\"1\" class=\"dataframe\">\n",
              "  <thead>\n",
              "    <tr style=\"text-align: right;\">\n",
              "      <th></th>\n",
              "      <th>raw_visit_counts</th>\n",
              "      <th>raw_visitor_counts</th>\n",
              "      <th>distance_from_home</th>\n",
              "      <th>median_dwell</th>\n",
              "      <th>&lt;5</th>\n",
              "      <th>5-10</th>\n",
              "      <th>11-20</th>\n",
              "      <th>21-60</th>\n",
              "      <th>61-120</th>\n",
              "      <th>121-240</th>\n",
              "      <th>&gt;240</th>\n",
              "      <th>Monday</th>\n",
              "      <th>Tuesday</th>\n",
              "      <th>Wednesday</th>\n",
              "      <th>Thursday</th>\n",
              "      <th>Friday</th>\n",
              "      <th>Saturday</th>\n",
              "      <th>Sunday</th>\n",
              "      <th>android</th>\n",
              "      <th>ios</th>\n",
              "      <th>popularity_1</th>\n",
              "      <th>popularity_2</th>\n",
              "      <th>popularity_3</th>\n",
              "      <th>popularity_4</th>\n",
              "      <th>popularity_5</th>\n",
              "      <th>popularity_6</th>\n",
              "      <th>popularity_7</th>\n",
              "      <th>popularity_8</th>\n",
              "      <th>popularity_9</th>\n",
              "      <th>popularity_10</th>\n",
              "      <th>popularity_11</th>\n",
              "      <th>popularity_12</th>\n",
              "      <th>popularity_13</th>\n",
              "      <th>popularity_14</th>\n",
              "      <th>popularity_15</th>\n",
              "      <th>popularity_16</th>\n",
              "      <th>popularity_17</th>\n",
              "      <th>popularity_18</th>\n",
              "      <th>popularity_19</th>\n",
              "      <th>popularity_20</th>\n",
              "      <th>popularity_21</th>\n",
              "      <th>popularity_22</th>\n",
              "      <th>popularity_23</th>\n",
              "      <th>popularity_24</th>\n",
              "    </tr>\n",
              "  </thead>\n",
              "  <tbody>\n",
              "    <tr>\n",
              "      <th>0</th>\n",
              "      <td>819</td>\n",
              "      <td>119</td>\n",
              "      <td>11643.0</td>\n",
              "      <td>33.0</td>\n",
              "      <td>16</td>\n",
              "      <td>169</td>\n",
              "      <td>137</td>\n",
              "      <td>186</td>\n",
              "      <td>111</td>\n",
              "      <td>97</td>\n",
              "      <td>103</td>\n",
              "      <td>174</td>\n",
              "      <td>107</td>\n",
              "      <td>158</td>\n",
              "      <td>119</td>\n",
              "      <td>107</td>\n",
              "      <td>72</td>\n",
              "      <td>82</td>\n",
              "      <td>91</td>\n",
              "      <td>29</td>\n",
              "      <td>63</td>\n",
              "      <td>51</td>\n",
              "      <td>40</td>\n",
              "      <td>32</td>\n",
              "      <td>51</td>\n",
              "      <td>66</td>\n",
              "      <td>114</td>\n",
              "      <td>99</td>\n",
              "      <td>136</td>\n",
              "      <td>146</td>\n",
              "      <td>166</td>\n",
              "      <td>163</td>\n",
              "      <td>136</td>\n",
              "      <td>160</td>\n",
              "      <td>121</td>\n",
              "      <td>104</td>\n",
              "      <td>91</td>\n",
              "      <td>41</td>\n",
              "      <td>76</td>\n",
              "      <td>42</td>\n",
              "      <td>42</td>\n",
              "      <td>40</td>\n",
              "      <td>44</td>\n",
              "      <td>51</td>\n",
              "    </tr>\n",
              "    <tr>\n",
              "      <th>1</th>\n",
              "      <td>67</td>\n",
              "      <td>27</td>\n",
              "      <td>3850.0</td>\n",
              "      <td>20.0</td>\n",
              "      <td>0</td>\n",
              "      <td>19</td>\n",
              "      <td>15</td>\n",
              "      <td>15</td>\n",
              "      <td>6</td>\n",
              "      <td>4</td>\n",
              "      <td>8</td>\n",
              "      <td>10</td>\n",
              "      <td>5</td>\n",
              "      <td>10</td>\n",
              "      <td>18</td>\n",
              "      <td>10</td>\n",
              "      <td>9</td>\n",
              "      <td>5</td>\n",
              "      <td>23</td>\n",
              "      <td>4</td>\n",
              "      <td>6</td>\n",
              "      <td>7</td>\n",
              "      <td>8</td>\n",
              "      <td>8</td>\n",
              "      <td>7</td>\n",
              "      <td>5</td>\n",
              "      <td>6</td>\n",
              "      <td>8</td>\n",
              "      <td>9</td>\n",
              "      <td>6</td>\n",
              "      <td>8</td>\n",
              "      <td>8</td>\n",
              "      <td>13</td>\n",
              "      <td>11</td>\n",
              "      <td>13</td>\n",
              "      <td>9</td>\n",
              "      <td>8</td>\n",
              "      <td>4</td>\n",
              "      <td>5</td>\n",
              "      <td>4</td>\n",
              "      <td>4</td>\n",
              "      <td>8</td>\n",
              "      <td>7</td>\n",
              "      <td>6</td>\n",
              "    </tr>\n",
              "    <tr>\n",
              "      <th>2</th>\n",
              "      <td>41</td>\n",
              "      <td>10</td>\n",
              "      <td>9462.0</td>\n",
              "      <td>42.0</td>\n",
              "      <td>0</td>\n",
              "      <td>14</td>\n",
              "      <td>1</td>\n",
              "      <td>13</td>\n",
              "      <td>7</td>\n",
              "      <td>3</td>\n",
              "      <td>3</td>\n",
              "      <td>9</td>\n",
              "      <td>5</td>\n",
              "      <td>5</td>\n",
              "      <td>6</td>\n",
              "      <td>8</td>\n",
              "      <td>2</td>\n",
              "      <td>6</td>\n",
              "      <td>6</td>\n",
              "      <td>7</td>\n",
              "      <td>0</td>\n",
              "      <td>0</td>\n",
              "      <td>0</td>\n",
              "      <td>0</td>\n",
              "      <td>0</td>\n",
              "      <td>0</td>\n",
              "      <td>0</td>\n",
              "      <td>9</td>\n",
              "      <td>7</td>\n",
              "      <td>7</td>\n",
              "      <td>9</td>\n",
              "      <td>11</td>\n",
              "      <td>7</td>\n",
              "      <td>11</td>\n",
              "      <td>14</td>\n",
              "      <td>7</td>\n",
              "      <td>3</td>\n",
              "      <td>1</td>\n",
              "      <td>0</td>\n",
              "      <td>0</td>\n",
              "      <td>0</td>\n",
              "      <td>0</td>\n",
              "      <td>0</td>\n",
              "      <td>0</td>\n",
              "    </tr>\n",
              "  </tbody>\n",
              "</table>\n",
              "</div>"
            ],
            "text/plain": [
              "   raw_visit_counts  raw_visitor_counts  ...  popularity_23  popularity_24\n",
              "0               819                 119  ...             44             51\n",
              "1                67                  27  ...              7              6\n",
              "2                41                  10  ...              0              0\n",
              "\n",
              "[3 rows x 44 columns]"
            ]
          },
          "metadata": {
            "tags": []
          },
          "execution_count": 16
        }
      ]
    },
    {
      "cell_type": "code",
      "metadata": {
        "colab": {
          "base_uri": "https://localhost:8080/"
        },
        "id": "IGIQnUVdapUS",
        "outputId": "c7245889-dd8c-43c1-a447-1b5899ce863f"
      },
      "source": [
        "y.head()"
      ],
      "execution_count": null,
      "outputs": [
        {
          "output_type": "execute_result",
          "data": {
            "text/plain": [
              "0    1\n",
              "1    0\n",
              "2    0\n",
              "3    2\n",
              "4    0\n",
              "Name: Class, dtype: int64"
            ]
          },
          "metadata": {
            "tags": []
          },
          "execution_count": 17
        }
      ]
    },
    {
      "cell_type": "markdown",
      "metadata": {
        "id": "9vmEWTwtU3jE"
      },
      "source": [
        "### Gaussian Naive Bayes Classifier"
      ]
    },
    {
      "cell_type": "markdown",
      "metadata": {
        "id": "97cbBDszqoHw"
      },
      "source": [
        "Here is a little background regarding the functionality of the Naive Bayes Classifier: [Gaussian Naive Bayes](https://towardsdatascience.com/naive-bayes-classifier-81d512f50a7c)"
      ]
    },
    {
      "cell_type": "code",
      "metadata": {
        "colab": {
          "base_uri": "https://localhost:8080/"
        },
        "id": "g3tSq2HWU72i",
        "outputId": "565ce5f6-579a-4a8f-a2f8-90729d774b9d"
      },
      "source": [
        "from sklearn.naive_bayes import GaussianNB\n",
        "gnb = GaussianNB().fit(X_train, y_train)\n",
        "gnb_predictions = gnb.predict(X_test)\n",
        "gnb_predictions"
      ],
      "execution_count": null,
      "outputs": [
        {
          "output_type": "execute_result",
          "data": {
            "text/plain": [
              "array([2, 2, 2, ..., 2, 2, 2])"
            ]
          },
          "metadata": {
            "tags": []
          },
          "execution_count": 18
        }
      ]
    },
    {
      "cell_type": "code",
      "metadata": {
        "colab": {
          "base_uri": "https://localhost:8080/"
        },
        "id": "cL7xVvciU9Fq",
        "outputId": "43e3f044-6f37-46c2-a83f-80d4190eb355"
      },
      "source": [
        "accuracy = gnb.score(X_test, y_test)\n",
        "print(accuracy)\n"
      ],
      "execution_count": null,
      "outputs": [
        {
          "output_type": "stream",
          "text": [
            "0.26552287581699346\n"
          ],
          "name": "stdout"
        }
      ]
    },
    {
      "cell_type": "code",
      "metadata": {
        "colab": {
          "base_uri": "https://localhost:8080/"
        },
        "id": "yXbcM1-iVBNi",
        "outputId": "dccf16da-b7d1-4a93-f63e-7a36a708980c"
      },
      "source": [
        "confusion_matrix(y_test, gnb_predictions)"
      ],
      "execution_count": null,
      "outputs": [
        {
          "output_type": "execute_result",
          "data": {
            "text/plain": [
              "array([[ 49, 142, 639],\n",
              "       [  1,   1, 108],\n",
              "       [  0,   9, 275]])"
            ]
          },
          "metadata": {
            "tags": []
          },
          "execution_count": 20
        }
      ]
    },
    {
      "cell_type": "markdown",
      "metadata": {
        "id": "Xpv_esdZa05-"
      },
      "source": [
        "Visualize the confusion matrix below. In our case, yellow indicates high incidence and purple indicates low incidence. Our \"correct\" predictions are shown in the diagonal from the top-left corner to the bottom-right corner.\n",
        "\n",
        "Ideally, we would see yellow in the diagonal and purple everywhere else."
      ]
    },
    {
      "cell_type": "code",
      "metadata": {
        "colab": {
          "base_uri": "https://localhost:8080/",
          "height": 296
        },
        "id": "MQ3c0L5zZOhv",
        "outputId": "140f1b43-5779-49b3-bc1f-10bc22439b53"
      },
      "source": [
        "plot_confusion_matrix(gnb, X_test, y_test, normalize='true', values_format = '.3f', display_labels=['Airport','Bus','Train'])"
      ],
      "execution_count": null,
      "outputs": [
        {
          "output_type": "execute_result",
          "data": {
            "text/plain": [
              "<sklearn.metrics._plot.confusion_matrix.ConfusionMatrixDisplay at 0x7f976604b5d0>"
            ]
          },
          "metadata": {
            "tags": []
          },
          "execution_count": 31
        },
        {
          "output_type": "display_data",
          "data": {
            "image/png": "[encoded data removed]",
            "text/plain": [
              "<Figure size 432x288 with 2 Axes>"
            ]
          },
          "metadata": {
            "tags": [],
            "needs_background": "light"
          }
        }
      ]
    },
    {
      "cell_type": "markdown",
      "metadata": {
        "id": "ucIZ5rVIMCGY"
      },
      "source": [
        "This shows that the Guassian Naive Bayes does not do too well with classifying this particular dataset. This could be attributed to the classifier considering each of the features indiviudally without the considerations of their correlations (thus the classifier being 'naive'). This would make it difficult for the classifier to do well when features have high correlation coefficients such as this particular dataset, where many of the features are exploded from one column and are directly correlated with one another.\n",
        "\n",
        "The accuracy of the model comes out to about 26%. The heatmap shows that a lot of values that are actually an airport are misclassified as a train station. The same can be said of true bus stations being misclassified as train stations. This shows that the majority of the records are actually classified as a train station."
      ]
    },
    {
      "cell_type": "markdown",
      "metadata": {
        "id": "d_8c6AoIAFP1"
      },
      "source": [
        "### Decision Tree Classifier"
      ]
    },
    {
      "cell_type": "markdown",
      "metadata": {
        "id": "FLr61GB2qOaE"
      },
      "source": [
        "Here is a little background regarding the functionality of the Decision Tree classifier: [Decision Tree](https://medium.com/swlh/decision-tree-classification-de64fc4d5aac)"
      ]
    },
    {
      "cell_type": "code",
      "metadata": {
        "id": "MvqiPNvbrgu9"
      },
      "source": [
        "from sklearn.tree import DecisionTreeClassifier\n",
        "dtree_model = DecisionTreeClassifier(max_depth = 3).fit(X_train, y_train)\n",
        "dtree_predictions = dtree_model.predict(X_test)"
      ],
      "execution_count": null,
      "outputs": []
    },
    {
      "cell_type": "code",
      "metadata": {
        "colab": {
          "base_uri": "https://localhost:8080/"
        },
        "id": "97g6l7lBu19R",
        "outputId": "28b8ae43-21a1-40d2-9513-45cee207ac89"
      },
      "source": [
        "dtree_model.score(X_test,y_test)"
      ],
      "execution_count": null,
      "outputs": [
        {
          "output_type": "execute_result",
          "data": {
            "text/plain": [
              "0.75"
            ]
          },
          "metadata": {
            "tags": []
          },
          "execution_count": 32
        }
      ]
    },
    {
      "cell_type": "code",
      "metadata": {
        "colab": {
          "base_uri": "https://localhost:8080/"
        },
        "id": "GKYiScR0sBqD",
        "outputId": "cd652037-7a3f-4eab-c411-1852aeaf61e3"
      },
      "source": [
        "confusion_matrix(y_test, dtree_predictions)"
      ],
      "execution_count": null,
      "outputs": [
        {
          "output_type": "execute_result",
          "data": {
            "text/plain": [
              "array([[761,   0,  69],\n",
              "       [ 83,   0,  27],\n",
              "       [127,   0, 157]])"
            ]
          },
          "metadata": {
            "tags": []
          },
          "execution_count": 34
        }
      ]
    },
    {
      "cell_type": "markdown",
      "metadata": {
        "id": "jhxYRdRacNFp"
      },
      "source": [
        "Visualize the confusion matrix below. In our case, yellow indicates high incidence and purple indicates low incidence. Our \"correct\" predictions are shown in the diagonal from the top-left corner to the bottom-right corner.\n",
        "\n",
        "Ideally, we would see yellow in the diagonal and purple everywhere else."
      ]
    },
    {
      "cell_type": "code",
      "metadata": {
        "colab": {
          "base_uri": "https://localhost:8080/",
          "height": 296
        },
        "id": "io0z91A7cNFt",
        "outputId": "85e4c41e-1854-43ee-e3ca-d4ee95a11cdf"
      },
      "source": [
        "plot_confusion_matrix(dtree_model, X_test, y_test, normalize='true', values_format = '.3f', display_labels=['Airport','Bus','Train'])"
      ],
      "execution_count": null,
      "outputs": [
        {
          "output_type": "execute_result",
          "data": {
            "text/plain": [
              "<sklearn.metrics._plot.confusion_matrix.ConfusionMatrixDisplay at 0x7f9765f69d10>"
            ]
          },
          "metadata": {
            "tags": []
          },
          "execution_count": 35
        },
        {
          "output_type": "display_data",
          "data": {
            "image/png": "[encoded data removed]",
            "text/plain": [
              "<Figure size 432x288 with 2 Axes>"
            ]
          },
          "metadata": {
            "tags": [],
            "needs_background": "light"
          }
        }
      ]
    },
    {
      "cell_type": "markdown",
      "metadata": {
        "id": "r7-vz1bochI2"
      },
      "source": [
        "From this we can see that the Decision Tree model performs much better than the Naive Bayes, with an accuracy of 75%. Considering that this is a multiclass classifier, this accuracy is fairly decent.\n",
        "\n",
        "The classifier seems to do a very good job at correctly classifying Airports, doing so at an accuracy rate of ~91.7% indicating that a model that takes into account the correlations between the various features of the data can perform very well in classifying the airports of this data correctly. The same cannot be said of the bus stop records, for none of the true Bus stop records were classified as bus stops. The Train station data seems to perform slightly better, classifying ~55.3% of true Train station data as Train stations. An interesting observation to make regarding this particular model's predictions is that none of the records are classified as a Bus stop---either correctly or incorrectly. This could be attributed to the smaller number of bus station records in comparison to the Train station and Airport records and the nature of the Decision Tree algorithim. The Decision Tree algorithim performs extremely well when using very balanced data, but doesn't perform as well on imbalanced data as in the case we have here."
      ]
    },
    {
      "cell_type": "markdown",
      "metadata": {
        "id": "CYx0MtAOALo-"
      },
      "source": [
        "### K-Nearest Neighbors Classifier"
      ]
    },
    {
      "cell_type": "markdown",
      "metadata": {
        "id": "J0vdQnmNpytQ"
      },
      "source": [
        "Here is a little background regarding the functionality of the KNN classifier: [KNN](https://www.analyticsvidhya.com/blog/2018/03/introduction-k-neighbours-algorithm-clustering/)"
      ]
    },
    {
      "cell_type": "code",
      "metadata": {
        "id": "L0y791rRstXt"
      },
      "source": [
        "from sklearn.neighbors import KNeighborsClassifier\n",
        "knn = KNeighborsClassifier(n_neighbors = 22).fit(X_train, y_train)"
      ],
      "execution_count": null,
      "outputs": []
    },
    {
      "cell_type": "code",
      "metadata": {
        "colab": {
          "base_uri": "https://localhost:8080/"
        },
        "id": "NmetwGSns3Za",
        "outputId": "1c808f4d-1095-4eec-e292-cb405cba11d7"
      },
      "source": [
        "accuracy = knn.score(X_test, y_test)\n",
        "accuracy"
      ],
      "execution_count": null,
      "outputs": [
        {
          "output_type": "execute_result",
          "data": {
            "text/plain": [
              "0.6797385620915033"
            ]
          },
          "metadata": {
            "tags": []
          },
          "execution_count": 38
        }
      ]
    },
    {
      "cell_type": "code",
      "metadata": {
        "colab": {
          "base_uri": "https://localhost:8080/"
        },
        "id": "TwyuByB5s-X6",
        "outputId": "ec32b2f4-5d03-483d-adda-c80f6121ba92"
      },
      "source": [
        "knn_predictions = knn.predict(X_test) \n",
        "confusion_matrix(y_test, knn_predictions)"
      ],
      "execution_count": null,
      "outputs": [
        {
          "output_type": "execute_result",
          "data": {
            "text/plain": [
              "array([[778,  10,  42],\n",
              "       [ 93,   3,  14],\n",
              "       [226,   7,  51]])"
            ]
          },
          "metadata": {
            "tags": []
          },
          "execution_count": 39
        }
      ]
    },
    {
      "cell_type": "markdown",
      "metadata": {
        "id": "HgMVyT2-coE4"
      },
      "source": [
        "Visualize the confusion matrix below. In our case, yellow indicates high incidence and purple indicates low incidence. Our \"correct\" predictions are shown in the diagonal from the top-left corner to the bottom-right corner.\n",
        "\n",
        "Ideally, we would see yellow in the diagonal and purple everywhere else."
      ]
    },
    {
      "cell_type": "code",
      "metadata": {
        "colab": {
          "base_uri": "https://localhost:8080/",
          "height": 296
        },
        "id": "1dLC4Q7KcoE5",
        "outputId": "ea47ba65-ebfa-4618-ff46-2346a2fec742"
      },
      "source": [
        "plot_confusion_matrix(knn, X_test, y_test, normalize='true', values_format = '.3f', display_labels=['Airport','Bus','Train'])"
      ],
      "execution_count": null,
      "outputs": [
        {
          "output_type": "execute_result",
          "data": {
            "text/plain": [
              "<sklearn.metrics._plot.confusion_matrix.ConfusionMatrixDisplay at 0x7f976a2fc550>"
            ]
          },
          "metadata": {
            "tags": []
          },
          "execution_count": 40
        },
        {
          "output_type": "display_data",
          "data": {
            "image/png": "[encoded data removed]",
            "text/plain": [
              "<Figure size 432x288 with 2 Axes>"
            ]
          },
          "metadata": {
            "tags": [],
            "needs_background": "light"
          }
        }
      ]
    },
    {
      "cell_type": "markdown",
      "metadata": {
        "id": "Ie9x-KREhO67"
      },
      "source": [
        "This classifier has an accuracy of about ~ 68.0%. The classifier does extremely well with classifying the Airport records properly, having an accuracy of ~93.7%. The number of correctly classified bus stops is no longer 0, but its still very low, this can again be attributed to the imbalanced data. This classifier does slightly worse with train classification that the decision tree model, predicting only ~18.3% of the true train stations as train stations.   "
      ]
    },
    {
      "cell_type": "markdown",
      "metadata": {
        "id": "dMO9rVgvAYt8"
      },
      "source": [
        "### Support Vector Machines Classifiers\n",
        "\n",
        "The training step for our SVM classifier takes about 2 hours. For that reason, we've commented all the code out. You are welcome to remove the comments and build the model---the code is all there!"
      ]
    },
    {
      "cell_type": "markdown",
      "metadata": {
        "id": "1eB29EHmpk89"
      },
      "source": [
        "Here is a little background regarding Support Vector Machines and their functionality: [SVM](https://towardsdatascience.com/support-vector-machine-introduction-to-machine-learning-algorithms-934a444fca47)"
      ]
    },
    {
      "cell_type": "code",
      "metadata": {
        "id": "ta7o3ezWvUxd"
      },
      "source": [
        "# from sklearn.svm import SVC\n",
        "# svm_model_linear = SVC(kernel = 'linear', C = 1).fit(X_train, y_train)\n",
        "# svm_predictions = svm_model_linear.predict(X_test)"
      ],
      "execution_count": null,
      "outputs": []
    },
    {
      "cell_type": "code",
      "metadata": {
        "id": "sKdLyf4cwAVD"
      },
      "source": [
        "# accuracy = svm_model_linear.score(X_test, y_test)\n",
        "# accuracy"
      ],
      "execution_count": null,
      "outputs": []
    },
    {
      "cell_type": "code",
      "metadata": {
        "id": "euoeJ8wRwBdR"
      },
      "source": [
        "# confusion_matrix(y_test, svm_predictions)"
      ],
      "execution_count": null,
      "outputs": []
    },
    {
      "cell_type": "markdown",
      "metadata": {
        "id": "yZ4kS0QUcw5G"
      },
      "source": [
        "Visualize the confusion matrix below. In our case, yellow indicates high incidence and purple indicates low incidence. Our \"correct\" predictions are shown in the diagonal from the top-left corner to the bottom-right corner.\n",
        "\n",
        "Ideally, we would see yellow in the diagonal and purple everywhere else."
      ]
    },
    {
      "cell_type": "code",
      "metadata": {
        "id": "PmTftbFccw5H"
      },
      "source": [
        "# plot_confusion_matrix(svm_model_linear, X_test, y_test, normalize='true', values_format = '.3f', display_labels=['Airport','Bus','Train'])"
      ],
      "execution_count": null,
      "outputs": []
    },
    {
      "cell_type": "markdown",
      "metadata": {
        "id": "ggjUIibuo33a"
      },
      "source": [
        "## Conclusion\n",
        "This notebook gave us an introduction to classification of POI categories based on SafeGraph Patterns visit data. Our algorithms saw some success in classifying airports vs train stations vs bus stops, all based on things like dwell time, visitor distance from home, popularity by hour of day, and popularity by day of week.\n",
        "\n",
        "The next notebook in the series (link coming soon!) will add complexity and power to our classifiers by tuning our models and conducting prinicipal component analysis."
      ]
    },
    {
      "cell_type": "markdown",
      "metadata": {
        "id": "aP3oeONHpYlY"
      },
      "source": [
        "# New Section\n",
        "---\n",
        "\n",
        "***Questions?***\n",
        "\n",
        "We invite you to ask them in the **#safegraphdata** channel of the [SafeGraph Community](https://www.safegraph.com/academics), a free Slack community for geospatial data enthusiasts. Receive support, share your work, or connect with others in the GIS community. Through the Placekey Community, academics have free access to SafeGraph data.\n",
        "\n",
        "---\n",
        "\n",
        "Contact: \n",
        "* Please send us your ideas, feedback, bug discoveries, and suggestions: datastories@safegraph.com\n"
      ]
    }
  ]
}